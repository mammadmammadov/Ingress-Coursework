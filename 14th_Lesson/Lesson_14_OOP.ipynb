{
 "cells": [
  {
   "cell_type": "code",
   "execution_count": 79,
   "id": "188b2cfb",
   "metadata": {},
   "outputs": [],
   "source": [
    "import pandas as pd\n",
    "import numpy as np\n",
    "import matplotlib.pyplot as plt"
   ]
  },
  {
   "cell_type": "code",
   "execution_count": 80,
   "id": "7d46421f",
   "metadata": {},
   "outputs": [],
   "source": [
    "class MyLogisticRegression:\n",
    "    def __init__(self, alpha = 0.001, iterations = 10000):\n",
    "        self.alpha = alpha\n",
    "        self.iterations = iterations\n",
    "        self.w = None\n",
    "        \n",
    "    def sigmoid(self, x):\n",
    "        return 1.0 / (1 + np.exp(-x))\n",
    "    \n",
    "    def fit(self, X, Y):\n",
    "        n_samples, n_features = X.shape\n",
    "        self.w = np.zeros(n_features)\n",
    "        for i in range(self.iterations):\n",
    "            z = np.dot(X, self.w)\n",
    "            h = self.sigmoid(z)\n",
    "            diff = h - Y\n",
    "            gradient = np.dot(X.T, diff) / n_samples\n",
    "            self.w = self.w - self.alpha * gradient\n",
    "            \n",
    "    def predict(self, X):\n",
    "        z = np.dot(X, self.w)\n",
    "        h = self.sigmoid(z)\n",
    "        return np.where(h >= 0.5, 1, 0)"
   ]
  },
  {
   "cell_type": "code",
   "execution_count": 81,
   "id": "a61fbc70",
   "metadata": {},
   "outputs": [],
   "source": [
    "df = pd.read_csv('exams.csv')\n",
    "df = df.sample(len(df)).copy()\n",
    "df_train = df[:90].copy()\n",
    "df_test = df[90:].copy()\n",
    "df_copy = df_train.copy()"
   ]
  },
  {
   "cell_type": "code",
   "execution_count": 82,
   "id": "d90c185a",
   "metadata": {},
   "outputs": [
    {
     "data": {
      "text/html": [
       "<div>\n",
       "<style scoped>\n",
       "    .dataframe tbody tr th:only-of-type {\n",
       "        vertical-align: middle;\n",
       "    }\n",
       "\n",
       "    .dataframe tbody tr th {\n",
       "        vertical-align: top;\n",
       "    }\n",
       "\n",
       "    .dataframe thead th {\n",
       "        text-align: right;\n",
       "    }\n",
       "</style>\n",
       "<table border=\"1\" class=\"dataframe\">\n",
       "  <thead>\n",
       "    <tr style=\"text-align: right;\">\n",
       "      <th></th>\n",
       "      <th>exam_1</th>\n",
       "      <th>exam_2</th>\n",
       "      <th>admitted</th>\n",
       "    </tr>\n",
       "  </thead>\n",
       "  <tbody>\n",
       "    <tr>\n",
       "      <th>79</th>\n",
       "      <td>82.226662</td>\n",
       "      <td>42.719879</td>\n",
       "      <td>0</td>\n",
       "    </tr>\n",
       "    <tr>\n",
       "      <th>37</th>\n",
       "      <td>64.176989</td>\n",
       "      <td>80.908061</td>\n",
       "      <td>1</td>\n",
       "    </tr>\n",
       "    <tr>\n",
       "      <th>65</th>\n",
       "      <td>66.560894</td>\n",
       "      <td>41.092098</td>\n",
       "      <td>0</td>\n",
       "    </tr>\n",
       "    <tr>\n",
       "      <th>54</th>\n",
       "      <td>50.286496</td>\n",
       "      <td>49.804539</td>\n",
       "      <td>0</td>\n",
       "    </tr>\n",
       "    <tr>\n",
       "      <th>15</th>\n",
       "      <td>53.971052</td>\n",
       "      <td>89.207350</td>\n",
       "      <td>1</td>\n",
       "    </tr>\n",
       "    <tr>\n",
       "      <th>...</th>\n",
       "      <td>...</td>\n",
       "      <td>...</td>\n",
       "      <td>...</td>\n",
       "    </tr>\n",
       "    <tr>\n",
       "      <th>32</th>\n",
       "      <td>52.107980</td>\n",
       "      <td>63.127624</td>\n",
       "      <td>0</td>\n",
       "    </tr>\n",
       "    <tr>\n",
       "      <th>97</th>\n",
       "      <td>99.315009</td>\n",
       "      <td>68.775409</td>\n",
       "      <td>1</td>\n",
       "    </tr>\n",
       "    <tr>\n",
       "      <th>34</th>\n",
       "      <td>40.236894</td>\n",
       "      <td>71.167748</td>\n",
       "      <td>0</td>\n",
       "    </tr>\n",
       "    <tr>\n",
       "      <th>7</th>\n",
       "      <td>75.024746</td>\n",
       "      <td>46.554014</td>\n",
       "      <td>1</td>\n",
       "    </tr>\n",
       "    <tr>\n",
       "      <th>80</th>\n",
       "      <td>88.913896</td>\n",
       "      <td>69.803789</td>\n",
       "      <td>1</td>\n",
       "    </tr>\n",
       "  </tbody>\n",
       "</table>\n",
       "<p>100 rows × 3 columns</p>\n",
       "</div>"
      ],
      "text/plain": [
       "       exam_1     exam_2  admitted\n",
       "79  82.226662  42.719879         0\n",
       "37  64.176989  80.908061         1\n",
       "65  66.560894  41.092098         0\n",
       "54  50.286496  49.804539         0\n",
       "15  53.971052  89.207350         1\n",
       "..        ...        ...       ...\n",
       "32  52.107980  63.127624         0\n",
       "97  99.315009  68.775409         1\n",
       "34  40.236894  71.167748         0\n",
       "7   75.024746  46.554014         1\n",
       "80  88.913896  69.803789         1\n",
       "\n",
       "[100 rows x 3 columns]"
      ]
     },
     "execution_count": 82,
     "metadata": {},
     "output_type": "execute_result"
    }
   ],
   "source": [
    "df"
   ]
  },
  {
   "cell_type": "code",
   "execution_count": 83,
   "id": "1c0a5c4d",
   "metadata": {},
   "outputs": [],
   "source": [
    "inputs = np.array([np.ones(len(df)), df['exam_1'], df['exam_2']]).T"
   ]
  },
  {
   "cell_type": "code",
   "execution_count": 84,
   "id": "c6e5b9ec",
   "metadata": {},
   "outputs": [],
   "source": [
    "df_train['exam_1'] = (df_train['exam_1'] - df_train['exam_1'].min())/(df_train['exam_1'].max() - df_train['exam_1'].min())\n",
    "df_train['exam_2'] = (df_train['exam_2'] - df_train['exam_2'].min())/(df_train['exam_2'].max() - df_train['exam_2'].min())"
   ]
  },
  {
   "cell_type": "code",
   "execution_count": 85,
   "id": "f7c48310",
   "metadata": {},
   "outputs": [],
   "source": [
    "inputs = np.array([np.ones(len(df_train)), df_train['exam_1'], df_train['exam_2']]).T\n",
    "y = df_train['admitted']"
   ]
  },
  {
   "cell_type": "code",
   "execution_count": 86,
   "id": "69677521",
   "metadata": {},
   "outputs": [],
   "source": [
    "model = MyLogisticRegression()"
   ]
  },
  {
   "cell_type": "code",
   "execution_count": 87,
   "id": "0aafb0a8",
   "metadata": {},
   "outputs": [],
   "source": [
    "df_test['exam_1'] = (df_test['exam_1'] - df_copy['exam_1'].min())/(df_copy['exam_1'].max() - df_copy['exam_1'].min())\n",
    "df_test['exam_2'] = (df_test['exam_2'] - df_copy['exam_2'].min())/(df_copy['exam_2'].max() - df_copy['exam_2'].min())"
   ]
  },
  {
   "cell_type": "code",
   "execution_count": 88,
   "id": "aa575a31",
   "metadata": {},
   "outputs": [],
   "source": [
    "X = df_test[['exam_1', 'exam_2']]\n",
    "\n",
    "# y = df_test['admitted']"
   ]
  },
  {
   "cell_type": "code",
   "execution_count": 89,
   "id": "5ead7dca",
   "metadata": {},
   "outputs": [],
   "source": [
    "model.fit(inputs, y)"
   ]
  },
  {
   "cell_type": "code",
   "execution_count": 90,
   "id": "d904cb95",
   "metadata": {},
   "outputs": [
    {
     "data": {
      "text/plain": [
       "array([1, 1, 0, 1, 1, 1, 1, 1, 1, 1])"
      ]
     },
     "execution_count": 90,
     "metadata": {},
     "output_type": "execute_result"
    }
   ],
   "source": [
    "model.predict(df_test)"
   ]
  }
 ],
 "metadata": {
  "kernelspec": {
   "display_name": "Python 3 (ipykernel)",
   "language": "python",
   "name": "python3"
  },
  "language_info": {
   "codemirror_mode": {
    "name": "ipython",
    "version": 3
   },
   "file_extension": ".py",
   "mimetype": "text/x-python",
   "name": "python",
   "nbconvert_exporter": "python",
   "pygments_lexer": "ipython3",
   "version": "3.11.7"
  }
 },
 "nbformat": 4,
 "nbformat_minor": 5
}
