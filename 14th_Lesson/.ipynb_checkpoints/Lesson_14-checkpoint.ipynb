{
 "cells": [
  {
   "cell_type": "code",
   "execution_count": 131,
   "id": "fc92c58c",
   "metadata": {},
   "outputs": [],
   "source": [
    "import pandas as pd\n",
    "import matplotlib.pyplot as plt\n",
    "import numpy as np\n",
    "import math"
   ]
  },
  {
   "cell_type": "code",
   "execution_count": 132,
   "id": "f46b604d",
   "metadata": {},
   "outputs": [],
   "source": [
    "df = pd.read_csv('exams.csv')\n",
    "df = df.sample(len(df)).copy()\n",
    "df_train = df[:90].copy()\n",
    "df_test = df[90:].copy()\n",
    "df_copy = df_train.copy()"
   ]
  },
  {
   "cell_type": "code",
   "execution_count": 133,
   "id": "9eaca78f",
   "metadata": {},
   "outputs": [
    {
     "data": {
      "text/html": [
       "<div>\n",
       "<style scoped>\n",
       "    .dataframe tbody tr th:only-of-type {\n",
       "        vertical-align: middle;\n",
       "    }\n",
       "\n",
       "    .dataframe tbody tr th {\n",
       "        vertical-align: top;\n",
       "    }\n",
       "\n",
       "    .dataframe thead th {\n",
       "        text-align: right;\n",
       "    }\n",
       "</style>\n",
       "<table border=\"1\" class=\"dataframe\">\n",
       "  <thead>\n",
       "    <tr style=\"text-align: right;\">\n",
       "      <th></th>\n",
       "      <th>exam_1</th>\n",
       "      <th>exam_2</th>\n",
       "      <th>admitted</th>\n",
       "    </tr>\n",
       "  </thead>\n",
       "  <tbody>\n",
       "    <tr>\n",
       "      <th>72</th>\n",
       "      <td>72.346494</td>\n",
       "      <td>96.227593</td>\n",
       "      <td>1</td>\n",
       "    </tr>\n",
       "    <tr>\n",
       "      <th>54</th>\n",
       "      <td>50.286496</td>\n",
       "      <td>49.804539</td>\n",
       "      <td>0</td>\n",
       "    </tr>\n",
       "    <tr>\n",
       "      <th>56</th>\n",
       "      <td>97.645634</td>\n",
       "      <td>68.861573</td>\n",
       "      <td>1</td>\n",
       "    </tr>\n",
       "    <tr>\n",
       "      <th>22</th>\n",
       "      <td>50.534788</td>\n",
       "      <td>48.855812</td>\n",
       "      <td>0</td>\n",
       "    </tr>\n",
       "    <tr>\n",
       "      <th>28</th>\n",
       "      <td>61.830206</td>\n",
       "      <td>50.256108</td>\n",
       "      <td>0</td>\n",
       "    </tr>\n",
       "    <tr>\n",
       "      <th>59</th>\n",
       "      <td>71.796462</td>\n",
       "      <td>78.453562</td>\n",
       "      <td>1</td>\n",
       "    </tr>\n",
       "    <tr>\n",
       "      <th>89</th>\n",
       "      <td>52.348004</td>\n",
       "      <td>60.769505</td>\n",
       "      <td>0</td>\n",
       "    </tr>\n",
       "    <tr>\n",
       "      <th>37</th>\n",
       "      <td>64.176989</td>\n",
       "      <td>80.908061</td>\n",
       "      <td>1</td>\n",
       "    </tr>\n",
       "    <tr>\n",
       "      <th>27</th>\n",
       "      <td>93.114389</td>\n",
       "      <td>38.800670</td>\n",
       "      <td>0</td>\n",
       "    </tr>\n",
       "    <tr>\n",
       "      <th>87</th>\n",
       "      <td>75.477702</td>\n",
       "      <td>90.424539</td>\n",
       "      <td>1</td>\n",
       "    </tr>\n",
       "  </tbody>\n",
       "</table>\n",
       "</div>"
      ],
      "text/plain": [
       "       exam_1     exam_2  admitted\n",
       "72  72.346494  96.227593         1\n",
       "54  50.286496  49.804539         0\n",
       "56  97.645634  68.861573         1\n",
       "22  50.534788  48.855812         0\n",
       "28  61.830206  50.256108         0\n",
       "59  71.796462  78.453562         1\n",
       "89  52.348004  60.769505         0\n",
       "37  64.176989  80.908061         1\n",
       "27  93.114389  38.800670         0\n",
       "87  75.477702  90.424539         1"
      ]
     },
     "execution_count": 133,
     "metadata": {},
     "output_type": "execute_result"
    }
   ],
   "source": [
    "df.sample(len(df)).head(10)"
   ]
  },
  {
   "cell_type": "code",
   "execution_count": 134,
   "id": "d3619e3d",
   "metadata": {},
   "outputs": [
    {
     "data": {
      "text/plain": [
       "admitted\n",
       "0    6\n",
       "1    4\n",
       "Name: count, dtype: int64"
      ]
     },
     "execution_count": 134,
     "metadata": {},
     "output_type": "execute_result"
    }
   ],
   "source": [
    "df_test['admitted'].value_counts()"
   ]
  },
  {
   "cell_type": "code",
   "execution_count": 135,
   "id": "72fa6c1e",
   "metadata": {},
   "outputs": [
    {
     "data": {
      "text/plain": [
       "<matplotlib.collections.PathCollection at 0x1cbecc7bad0>"
      ]
     },
     "execution_count": 135,
     "metadata": {},
     "output_type": "execute_result"
    },
    {
     "data": {
      "image/png": "[encoded data removed]",
      "text/plain": [
       "<Figure size 640x480 with 1 Axes>"
      ]
     },
     "metadata": {},
     "output_type": "display_data"
    }
   ],
   "source": [
    "df_passed = df[df.admitted==1]\n",
    "df_failed = df[df.admitted==0]\n",
    "\n",
    "plt.scatter(df_passed['exam_1'], df_passed['exam_2'], color='g')\n",
    "plt.scatter(df_failed['exam_1'], df_failed['exam_2'], color='r')"
   ]
  },
  {
   "cell_type": "code",
   "execution_count": 136,
   "id": "b23b8c63",
   "metadata": {},
   "outputs": [
    {
     "data": {
      "text/plain": [
       "array([[ 1.        , 74.24869137, 69.82457123],\n",
       "       [ 1.        , 51.04775177, 45.82270146],\n",
       "       [ 1.        , 34.62365962, 78.02469282],\n",
       "       [ 1.        , 60.18259939, 86.3085521 ],\n",
       "       [ 1.        , 85.40451939, 57.05198398],\n",
       "       [ 1.        , 56.2538175 , 39.26147251],\n",
       "       [ 1.        , 64.17698887, 80.90806059],\n",
       "       [ 1.        , 80.19018075, 44.82162893],\n",
       "       [ 1.        , 52.10797973, 63.12762377],\n",
       "       [ 1.        , 74.78925296, 41.57341523],\n",
       "       [ 1.        , 94.09433113, 77.15910509],\n",
       "       [ 1.        , 75.39561147, 85.75993667],\n",
       "       [ 1.        , 42.26170081, 87.10385094],\n",
       "       [ 1.        , 55.48216114, 35.57070347],\n",
       "       [ 1.        , 78.63542435, 96.64742717],\n",
       "       [ 1.        , 90.44855097, 87.50879176],\n",
       "       [ 1.        , 68.46852179, 85.5943071 ],\n",
       "       [ 1.        , 51.54772027, 46.85629026],\n",
       "       [ 1.        , 49.58667722, 59.80895099],\n",
       "       [ 1.        , 45.08327748, 56.31637178],\n",
       "       [ 1.        , 44.66826172, 66.45008615],\n",
       "       [ 1.        , 34.18364003, 75.23772034],\n",
       "       [ 1.        , 82.22666158, 42.71987854],\n",
       "       [ 1.        , 91.5649745 , 88.69629255],\n",
       "       [ 1.        , 90.54671411, 43.39060181],\n",
       "       [ 1.        , 39.53833914, 76.03681085],\n",
       "       [ 1.        , 67.94685548, 46.67857411],\n",
       "       [ 1.        , 66.56089447, 41.09209808],\n",
       "       [ 1.        , 95.86155507, 38.22527806],\n",
       "       [ 1.        , 57.23870632, 59.51428198],\n",
       "       [ 1.        , 32.72283304, 43.30717306],\n",
       "       [ 1.        , 35.84740877, 72.90219803],\n",
       "       [ 1.        , 94.44336777, 65.56892161],\n",
       "       [ 1.        , 99.31500881, 68.77540947],\n",
       "       [ 1.        , 77.19303493, 70.4582    ],\n",
       "       [ 1.        , 82.36875376, 40.61825516],\n",
       "       [ 1.        , 40.45755098, 97.53518549],\n",
       "       [ 1.        , 80.27957401, 92.11606081],\n",
       "       [ 1.        , 94.83450672, 45.6943068 ],\n",
       "       [ 1.        , 71.79646206, 78.45356225],\n",
       "       [ 1.        , 79.94481794, 74.16311935],\n",
       "       [ 1.        , 83.48916274, 48.3802858 ],\n",
       "       [ 1.        , 79.03273605, 75.34437644],\n",
       "       [ 1.        , 53.97105215, 89.20735014],\n",
       "       [ 1.        , 99.27252693, 60.999031  ],\n",
       "       [ 1.        , 61.37928945, 72.80788731],\n",
       "       [ 1.        , 69.36458876, 97.71869196],\n",
       "       [ 1.        , 93.1143888 , 38.80067034],\n",
       "       [ 1.        , 75.47770201, 90.424539  ],\n",
       "       [ 1.        , 76.0987867 , 87.42056972],\n",
       "       [ 1.        , 34.52451385, 60.39634246],\n",
       "       [ 1.        , 97.64563396, 68.86157272],\n",
       "       [ 1.        , 83.90239366, 56.30804622],\n",
       "       [ 1.        , 66.74671857, 60.99139403],\n",
       "       [ 1.        , 80.366756  , 90.9601479 ],\n",
       "       [ 1.        , 47.26426911, 88.475865  ],\n",
       "       [ 1.        , 70.66150955, 92.92713789],\n",
       "       [ 1.        , 55.34001756, 64.93193801],\n",
       "       [ 1.        , 89.67677575, 65.79936593],\n",
       "       [ 1.        , 77.92409145, 68.97235999],\n",
       "       [ 1.        , 97.77159928, 86.72782233],\n",
       "       [ 1.        , 76.97878373, 47.57596365],\n",
       "       [ 1.        , 64.03932042, 78.03168802],\n",
       "       [ 1.        , 99.8278578 , 72.36925193],\n",
       "       [ 1.        , 69.07014406, 52.74046973],\n",
       "       [ 1.        , 38.7858038 , 64.99568096],\n",
       "       [ 1.        , 60.45555629, 42.50840944],\n",
       "       [ 1.        , 82.30705337, 76.4819633 ],\n",
       "       [ 1.        , 50.28649612, 49.80453881],\n",
       "       [ 1.        , 74.775893  , 89.5298129 ],\n",
       "       [ 1.        , 33.91550011, 98.86943574],\n",
       "       [ 1.        , 35.28611282, 47.02051395],\n",
       "       [ 1.        , 50.53478829, 48.85581153],\n",
       "       [ 1.        , 50.4581598 , 75.80985953],\n",
       "       [ 1.        , 74.49269242, 84.84513685],\n",
       "       [ 1.        , 62.0730638 , 96.76882412],\n",
       "       [ 1.        , 30.05882245, 49.59297387],\n",
       "       [ 1.        , 34.21206098, 44.2095286 ],\n",
       "       [ 1.        , 72.34649423, 96.22759297],\n",
       "       [ 1.        , 84.43281996, 43.53339331],\n",
       "       [ 1.        , 67.31925747, 66.58935318],\n",
       "       [ 1.        , 67.37202755, 42.83843832],\n",
       "       [ 1.        , 54.63510555, 52.21388588],\n",
       "       [ 1.        , 61.83020602, 50.25610789],\n",
       "       [ 1.        , 58.84095622, 75.85844831],\n",
       "       [ 1.        , 32.57720017, 95.59854761],\n",
       "       [ 1.        , 49.07256322, 51.88321182],\n",
       "       [ 1.        , 61.10666454, 96.51142588],\n",
       "       [ 1.        , 52.04540477, 69.43286012],\n",
       "       [ 1.        , 60.45788574, 73.0949981 ],\n",
       "       [ 1.        , 62.27101367, 69.95445795],\n",
       "       [ 1.        , 75.02474557, 46.55401354],\n",
       "       [ 1.        , 52.34800399, 60.76950526],\n",
       "       [ 1.        , 88.91389642, 69.8037889 ],\n",
       "       [ 1.        , 42.07545454, 78.844786  ],\n",
       "       [ 1.        , 40.23689374, 71.16774802],\n",
       "       [ 1.        , 30.28671077, 43.89499752],\n",
       "       [ 1.        , 62.22267576, 52.06099195],\n",
       "       [ 1.        , 89.84580671, 45.35828361],\n",
       "       [ 1.        , 75.01365839, 30.60326323]])"
      ]
     },
     "execution_count": 136,
     "metadata": {},
     "output_type": "execute_result"
    }
   ],
   "source": [
    "inputs = np.array([np.ones(len(df)), df['exam_1'], df['exam_2']]).T\n",
    "inputs"
   ]
  },
  {
   "cell_type": "code",
   "execution_count": 137,
   "id": "9677f696",
   "metadata": {},
   "outputs": [],
   "source": [
    "w = np.array([0, 0, 0])"
   ]
  },
  {
   "cell_type": "code",
   "execution_count": 138,
   "id": "0e506e3a",
   "metadata": {},
   "outputs": [],
   "source": [
    "df_train['exam_1'] = (df_train['exam_1'] - df_train['exam_1'].min())/(df_train['exam_1'].max() - df_train['exam_1'].min())\n",
    "df_train['exam_2'] = (df_train['exam_2'] - df_train['exam_2'].min())/(df_train['exam_2'].max() - df_train['exam_2'].min())"
   ]
  },
  {
   "cell_type": "code",
   "execution_count": 139,
   "id": "493c5b61",
   "metadata": {},
   "outputs": [],
   "source": [
    "inputs = np.array([np.ones(len(df_train)), df_train['exam_1'], df_train['exam_2']]).T\n",
    "y = df_train['admitted']"
   ]
  },
  {
   "cell_type": "code",
   "execution_count": 140,
   "id": "80228d71",
   "metadata": {},
   "outputs": [
    {
     "data": {
      "text/html": [
       "<div>\n",
       "<style scoped>\n",
       "    .dataframe tbody tr th:only-of-type {\n",
       "        vertical-align: middle;\n",
       "    }\n",
       "\n",
       "    .dataframe tbody tr th {\n",
       "        vertical-align: top;\n",
       "    }\n",
       "\n",
       "    .dataframe thead th {\n",
       "        text-align: right;\n",
       "    }\n",
       "</style>\n",
       "<table border=\"1\" class=\"dataframe\">\n",
       "  <thead>\n",
       "    <tr style=\"text-align: right;\">\n",
       "      <th></th>\n",
       "      <th>exam_1</th>\n",
       "      <th>exam_2</th>\n",
       "      <th>admitted</th>\n",
       "    </tr>\n",
       "  </thead>\n",
       "  <tbody>\n",
       "    <tr>\n",
       "      <th>25</th>\n",
       "      <td>62.271014</td>\n",
       "      <td>69.954458</td>\n",
       "      <td>1</td>\n",
       "    </tr>\n",
       "    <tr>\n",
       "      <th>7</th>\n",
       "      <td>75.024746</td>\n",
       "      <td>46.554014</td>\n",
       "      <td>1</td>\n",
       "    </tr>\n",
       "    <tr>\n",
       "      <th>89</th>\n",
       "      <td>52.348004</td>\n",
       "      <td>60.769505</td>\n",
       "      <td>0</td>\n",
       "    </tr>\n",
       "    <tr>\n",
       "      <th>80</th>\n",
       "      <td>88.913896</td>\n",
       "      <td>69.803789</td>\n",
       "      <td>1</td>\n",
       "    </tr>\n",
       "    <tr>\n",
       "      <th>86</th>\n",
       "      <td>42.075455</td>\n",
       "      <td>78.844786</td>\n",
       "      <td>0</td>\n",
       "    </tr>\n",
       "    <tr>\n",
       "      <th>34</th>\n",
       "      <td>40.236894</td>\n",
       "      <td>71.167748</td>\n",
       "      <td>0</td>\n",
       "    </tr>\n",
       "    <tr>\n",
       "      <th>1</th>\n",
       "      <td>30.286711</td>\n",
       "      <td>43.894998</td>\n",
       "      <td>0</td>\n",
       "    </tr>\n",
       "    <tr>\n",
       "      <th>45</th>\n",
       "      <td>62.222676</td>\n",
       "      <td>52.060992</td>\n",
       "      <td>0</td>\n",
       "    </tr>\n",
       "    <tr>\n",
       "      <th>94</th>\n",
       "      <td>89.845807</td>\n",
       "      <td>45.358284</td>\n",
       "      <td>1</td>\n",
       "    </tr>\n",
       "    <tr>\n",
       "      <th>11</th>\n",
       "      <td>75.013658</td>\n",
       "      <td>30.603263</td>\n",
       "      <td>0</td>\n",
       "    </tr>\n",
       "  </tbody>\n",
       "</table>\n",
       "</div>"
      ],
      "text/plain": [
       "       exam_1     exam_2  admitted\n",
       "25  62.271014  69.954458         1\n",
       "7   75.024746  46.554014         1\n",
       "89  52.348004  60.769505         0\n",
       "80  88.913896  69.803789         1\n",
       "86  42.075455  78.844786         0\n",
       "34  40.236894  71.167748         0\n",
       "1   30.286711  43.894998         0\n",
       "45  62.222676  52.060992         0\n",
       "94  89.845807  45.358284         1\n",
       "11  75.013658  30.603263         0"
      ]
     },
     "execution_count": 140,
     "metadata": {},
     "output_type": "execute_result"
    }
   ],
   "source": [
    "df_test"
   ]
  },
  {
   "cell_type": "markdown",
   "id": "f6a2ec5c",
   "metadata": {},
   "source": [
    "## Key Functions"
   ]
  },
  {
   "cell_type": "code",
   "execution_count": 141,
   "id": "8c997b0e",
   "metadata": {},
   "outputs": [],
   "source": [
    "def cost_function(Y, h):\n",
    "    return (-Y * np.log(h) - (1 - Y) * np.log(1 - h)).mean()"
   ]
  },
  {
   "cell_type": "code",
   "execution_count": 142,
   "id": "736fa927",
   "metadata": {},
   "outputs": [],
   "source": [
    "def sigmoid(z):\n",
    "    return 1.0 / (1 + np.exp(-z))"
   ]
  },
  {
   "cell_type": "code",
   "execution_count": 143,
   "id": "2650e3af",
   "metadata": {},
   "outputs": [],
   "source": [
    "def predict(X, W):\n",
    "    val = np.dot(X, W)\n",
    "    p = sigmoid(val)\n",
    "    p[p >= 0.5] = 1\n",
    "    p[p < 0.5] = 0\n",
    "    \n",
    "    return p"
   ]
  },
  {
   "cell_type": "code",
   "execution_count": 144,
   "id": "75cfe8d5",
   "metadata": {},
   "outputs": [],
   "source": [
    "cost_H = []\n",
    "def gradient_descent(X, Y, W, alpha = 0.1, iterations = 10000):\n",
    "    for i in range(0, iterations):\n",
    "        z = np.dot(X, W)\n",
    "        h = sigmoid(z)\n",
    "        diff = h - Y\n",
    "        g = np.dot(X.T, diff) / len(Y)\n",
    "        W = W - alpha * g\n",
    "        \n",
    "        cost = cost_function(Y, h)\n",
    "        cost_H.append(cost)\n",
    "        \n",
    "        if i % 1000 == 0:\n",
    "            print(\"Iteration %d: \"%i)\n",
    "            print(cost)\n",
    "            print()\n",
    "            \n",
    "    return W"
   ]
  },
  {
   "cell_type": "code",
   "execution_count": 145,
   "id": "20025619",
   "metadata": {},
   "outputs": [
    {
     "name": "stdout",
     "output_type": "stream",
     "text": [
      "Iteration 0: \n",
      "0.6931471805599454\n",
      "\n",
      "Iteration 1000: \n",
      "0.3516751581223515\n",
      "\n",
      "Iteration 2000: \n",
      "0.288251674456272\n",
      "\n",
      "Iteration 3000: \n",
      "0.2609589314510487\n",
      "\n",
      "Iteration 4000: \n",
      "0.24576426845290086\n",
      "\n",
      "Iteration 5000: \n",
      "0.23611320686456297\n",
      "\n",
      "Iteration 6000: \n",
      "0.22947537276955446\n",
      "\n",
      "Iteration 7000: \n",
      "0.22466081070076585\n",
      "\n",
      "Iteration 8000: \n",
      "0.22103366308860647\n",
      "\n",
      "Iteration 9000: \n",
      "0.2182223020961164\n",
      "\n"
     ]
    },
    {
     "data": {
      "text/plain": [
       "array([-7.58323481,  9.13063643,  8.50566156])"
      ]
     },
     "execution_count": 145,
     "metadata": {},
     "output_type": "execute_result"
    }
   ],
   "source": [
    "gradient_descent(inputs, y, w)"
   ]
  },
  {
   "cell_type": "code",
   "execution_count": 146,
   "id": "e819c25a",
   "metadata": {},
   "outputs": [
    {
     "data": {
      "text/plain": [
       "[<matplotlib.lines.Line2D at 0x1cbec9e3a10>]"
      ]
     },
     "execution_count": 146,
     "metadata": {},
     "output_type": "execute_result"
    },
    {
     "data": {
      "image/png": "[encoded data removed]",
      "text/plain": [
       "<Figure size 640x480 with 1 Axes>"
      ]
     },
     "metadata": {},
     "output_type": "display_data"
    }
   ],
   "source": [
    "plt.plot(cost_H)"
   ]
  },
  {
   "cell_type": "code",
   "execution_count": 147,
   "id": "7756660f",
   "metadata": {},
   "outputs": [],
   "source": [
    "df_test['exam_1'] = (df_test['exam_1'] - df_copy['exam_1'].min())/(df_copy['exam_1'].max() - df_copy['exam_1'].min())\n",
    "df_test['exam_2'] = (df_test['exam_2'] - df_copy['exam_2'].min())/(df_copy['exam_2'].max() - df_copy['exam_2'].min())"
   ]
  },
  {
   "cell_type": "code",
   "execution_count": 148,
   "id": "47bcf935",
   "metadata": {},
   "outputs": [],
   "source": [
    "X = df_test[['exam_1', 'exam_2']]\n",
    "\n",
    "y = df_test['admitted']"
   ]
  },
  {
   "cell_type": "code",
   "execution_count": 149,
   "id": "a0b39295",
   "metadata": {},
   "outputs": [
    {
     "data": {
      "text/html": [
       "<div>\n",
       "<style scoped>\n",
       "    .dataframe tbody tr th:only-of-type {\n",
       "        vertical-align: middle;\n",
       "    }\n",
       "\n",
       "    .dataframe tbody tr th {\n",
       "        vertical-align: top;\n",
       "    }\n",
       "\n",
       "    .dataframe thead th {\n",
       "        text-align: right;\n",
       "    }\n",
       "</style>\n",
       "<table border=\"1\" class=\"dataframe\">\n",
       "  <thead>\n",
       "    <tr style=\"text-align: right;\">\n",
       "      <th></th>\n",
       "      <th>exam_1</th>\n",
       "      <th>exam_2</th>\n",
       "    </tr>\n",
       "  </thead>\n",
       "  <tbody>\n",
       "    <tr>\n",
       "      <th>25</th>\n",
       "      <td>0.461698</td>\n",
       "      <td>0.543198</td>\n",
       "    </tr>\n",
       "    <tr>\n",
       "      <th>7</th>\n",
       "      <td>0.644497</td>\n",
       "      <td>0.173515</td>\n",
       "    </tr>\n",
       "    <tr>\n",
       "      <th>89</th>\n",
       "      <td>0.319471</td>\n",
       "      <td>0.398093</td>\n",
       "    </tr>\n",
       "    <tr>\n",
       "      <th>80</th>\n",
       "      <td>0.843570</td>\n",
       "      <td>0.540818</td>\n",
       "    </tr>\n",
       "    <tr>\n",
       "      <th>86</th>\n",
       "      <td>0.172234</td>\n",
       "      <td>0.683648</td>\n",
       "    </tr>\n",
       "    <tr>\n",
       "      <th>34</th>\n",
       "      <td>0.145882</td>\n",
       "      <td>0.562366</td>\n",
       "    </tr>\n",
       "    <tr>\n",
       "      <th>1</th>\n",
       "      <td>0.003266</td>\n",
       "      <td>0.131508</td>\n",
       "    </tr>\n",
       "    <tr>\n",
       "      <th>45</th>\n",
       "      <td>0.461005</td>\n",
       "      <td>0.260515</td>\n",
       "    </tr>\n",
       "    <tr>\n",
       "      <th>94</th>\n",
       "      <td>0.856927</td>\n",
       "      <td>0.154625</td>\n",
       "    </tr>\n",
       "    <tr>\n",
       "      <th>11</th>\n",
       "      <td>0.644338</td>\n",
       "      <td>-0.078476</td>\n",
       "    </tr>\n",
       "  </tbody>\n",
       "</table>\n",
       "</div>"
      ],
      "text/plain": [
       "      exam_1    exam_2\n",
       "25  0.461698  0.543198\n",
       "7   0.644497  0.173515\n",
       "89  0.319471  0.398093\n",
       "80  0.843570  0.540818\n",
       "86  0.172234  0.683648\n",
       "34  0.145882  0.562366\n",
       "1   0.003266  0.131508\n",
       "45  0.461005  0.260515\n",
       "94  0.856927  0.154625\n",
       "11  0.644338 -0.078476"
      ]
     },
     "execution_count": 149,
     "metadata": {},
     "output_type": "execute_result"
    }
   ],
   "source": [
    "X"
   ]
  },
  {
   "cell_type": "code",
   "execution_count": 150,
   "id": "d9814d27",
   "metadata": {},
   "outputs": [
    {
     "data": {
      "text/plain": [
       "25    1\n",
       "7     1\n",
       "89    0\n",
       "80    1\n",
       "86    0\n",
       "34    0\n",
       "1     0\n",
       "45    0\n",
       "94    1\n",
       "11    0\n",
       "Name: admitted, dtype: int64"
      ]
     },
     "execution_count": 150,
     "metadata": {},
     "output_type": "execute_result"
    }
   ],
   "source": [
    "y"
   ]
  },
  {
   "cell_type": "code",
   "execution_count": 151,
   "id": "456addc4",
   "metadata": {},
   "outputs": [
    {
     "data": {
      "text/plain": [
       "[-8.18579951, 9.34700661, 8.76650439]"
      ]
     },
     "execution_count": 151,
     "metadata": {},
     "output_type": "execute_result"
    }
   ],
   "source": [
    "[-8.18579951,  9.34700661,  8.76650439]"
   ]
  },
  {
   "cell_type": "code",
   "execution_count": 152,
   "id": "25794a53",
   "metadata": {},
   "outputs": [],
   "source": [
    "final = 9.34700661 * X['exam_1'] + 8.76650439 * X['exam_2'] - 8.18579951"
   ]
  },
  {
   "cell_type": "code",
   "execution_count": 153,
   "id": "8191c6a7",
   "metadata": {},
   "outputs": [
    {
     "data": {
      "text/plain": [
       "array([7.09228359e-01, 3.45120186e-01, 1.53187650e-01, 9.88343176e-01,\n",
       "       3.58308016e-01, 1.30987731e-01, 9.08866475e-04, 1.68965471e-01,\n",
       "       7.64844823e-01, 5.46229336e-02])"
      ]
     },
     "execution_count": 153,
     "metadata": {},
     "output_type": "execute_result"
    }
   ],
   "source": [
    "final = np.array(list(sigmoid(final)))\n",
    "final"
   ]
  },
  {
   "cell_type": "code",
   "execution_count": 154,
   "id": "7674acdd",
   "metadata": {},
   "outputs": [
    {
     "data": {
      "text/plain": [
       "array([1., 0., 0., 1., 0., 0., 0., 0., 1., 0.])"
      ]
     },
     "execution_count": 154,
     "metadata": {},
     "output_type": "execute_result"
    }
   ],
   "source": [
    "final[final < 0.5] = 0\n",
    "final[final >= 0.5] = 1\n",
    "final"
   ]
  },
  {
   "cell_type": "code",
   "execution_count": 155,
   "id": "1776b3df",
   "metadata": {},
   "outputs": [
    {
     "data": {
      "text/plain": [
       "array([1, 1, 0, 1, 0, 0, 0, 0, 1, 0], dtype=int64)"
      ]
     },
     "execution_count": 155,
     "metadata": {},
     "output_type": "execute_result"
    }
   ],
   "source": [
    "y.values"
   ]
  },
  {
   "cell_type": "code",
   "execution_count": 156,
   "id": "5cbe6eb7",
   "metadata": {},
   "outputs": [],
   "source": [
    "from sklearn.metrics import confusion_matrix, classification_report, accuracy_score, precision_score, f1_score, recall_score"
   ]
  },
  {
   "cell_type": "code",
   "execution_count": 157,
   "id": "5a2292ef",
   "metadata": {},
   "outputs": [
    {
     "data": {
      "text/plain": [
       "array([[6, 1],\n",
       "       [0, 3]], dtype=int64)"
      ]
     },
     "execution_count": 157,
     "metadata": {},
     "output_type": "execute_result"
    }
   ],
   "source": [
    "confusion_matrix(final, y)"
   ]
  },
  {
   "cell_type": "code",
   "execution_count": 120,
   "id": "adc71315",
   "metadata": {},
   "outputs": [
    {
     "name": "stdout",
     "output_type": "stream",
     "text": [
      "              precision    recall  f1-score   support\n",
      "\n",
      "         0.0       1.00      0.50      0.67         2\n",
      "         1.0       0.89      1.00      0.94         8\n",
      "\n",
      "    accuracy                           0.90        10\n",
      "   macro avg       0.94      0.75      0.80        10\n",
      "weighted avg       0.91      0.90      0.89        10\n",
      "\n"
     ]
    }
   ],
   "source": [
    "print(classification_report(final, y))"
   ]
  },
  {
   "cell_type": "code",
   "execution_count": null,
   "id": "64971cd5",
   "metadata": {},
   "outputs": [],
   "source": []
  }
 ],
 "metadata": {
  "kernelspec": {
   "display_name": "Python 3 (ipykernel)",
   "language": "python",
   "name": "python3"
  },
  "language_info": {
   "codemirror_mode": {
    "name": "ipython",
    "version": 3
   },
   "file_extension": ".py",
   "mimetype": "text/x-python",
   "name": "python",
   "nbconvert_exporter": "python",
   "pygments_lexer": "ipython3",
   "version": "3.11.7"
  }
 },
 "nbformat": 4,
 "nbformat_minor": 5
}
