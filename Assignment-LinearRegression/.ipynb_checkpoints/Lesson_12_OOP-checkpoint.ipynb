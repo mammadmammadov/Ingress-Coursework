{
 "cells": [
  {
   "cell_type": "code",
   "execution_count": 22,
   "id": "0a401a26",
   "metadata": {},
   "outputs": [],
   "source": [
    "import pandas as pd\n",
    "import numpy as np\n",
    "import matplotlib.pyplot as plt "
   ]
  },
  {
   "cell_type": "code",
   "execution_count": 23,
   "id": "6f15246e",
   "metadata": {},
   "outputs": [],
   "source": [
    "class MyLinearRegression:\n",
    "    def __init__(self, alpha = 0.001, iterations=10000, cost_historical = []):\n",
    "        self.alpha = alpha\n",
    "        self.iterations = iterations\n",
    "        self.w = None\n",
    "        self.cost_historical = []\n",
    "        \n",
    "    def cost_function(self, X, y, w):\n",
    "        h = X.dot(w)\n",
    "        J = np.sum(((h-y)**2) / (2*len(y)))\n",
    "        return J\n",
    "        \n",
    "    def fit(self, X, y):\n",
    "        n_samples, n_features = X.shape\n",
    "        self.w = np.zeros(n_features)\n",
    "        \n",
    "        for i in range(self.iterations):\n",
    "            h = X.dot(self.w)\n",
    "            diff = h - y\n",
    "            gradient = (1/n_samples) * diff.T.dot(X)\n",
    "            self.w = self.w - self.alpha * gradient\n",
    "            self.cost_historical.append(self.cost_function(X, y, self.w))\n",
    "        return self.w\n",
    "    \n",
    "    def predict(self, X):\n",
    "        return X.dot(self.w)   "
   ]
  },
  {
   "cell_type": "code",
   "execution_count": 24,
   "id": "c08e4264",
   "metadata": {},
   "outputs": [],
   "source": [
    "df1 = pd.read_csv('./data/turboaz.csv')"
   ]
  },
  {
   "cell_type": "code",
   "execution_count": 25,
   "id": "1554976f",
   "metadata": {},
   "outputs": [],
   "source": [
    "# currency_rates = CurrencyRates()\n",
    "def apply_azn(col):\n",
    "    lst = col.split()\n",
    "    if 'AZN' in col:\n",
    "        return float(lst[0])\n",
    "    if '$' in col:\n",
    "        # return currency_rates.convert('USD', 'AZN', float(lst[0]))\n",
    "        return float(lst[0]) * 1.7\n",
    "    return 0\n"
   ]
  },
  {
   "cell_type": "code",
   "execution_count": 26,
   "id": "6d991ea2",
   "metadata": {},
   "outputs": [],
   "source": [
    "df1['Qiymet'] = df1['Qiymet'].apply(apply_azn)\n",
    "\n",
    "# removing the spaces at the beginning and at the end, remove 'km's and get integer number\n",
    "df1['Yurush'] = df1['Yurush'].apply(lambda x: int(''.join(x.strip().replace('km', '').split())))\n",
    "\n",
    "df = df1[['Buraxilish ili', 'Yurush', 'Qiymet']].copy() # deep copying"
   ]
  },
  {
   "cell_type": "code",
   "execution_count": 27,
   "id": "38b2f758",
   "metadata": {},
   "outputs": [
    {
     "data": {
      "text/html": [
       "<div>\n",
       "<style scoped>\n",
       "    .dataframe tbody tr th:only-of-type {\n",
       "        vertical-align: middle;\n",
       "    }\n",
       "\n",
       "    .dataframe tbody tr th {\n",
       "        vertical-align: top;\n",
       "    }\n",
       "\n",
       "    .dataframe thead th {\n",
       "        text-align: right;\n",
       "    }\n",
       "</style>\n",
       "<table border=\"1\" class=\"dataframe\">\n",
       "  <thead>\n",
       "    <tr style=\"text-align: right;\">\n",
       "      <th></th>\n",
       "      <th>Buraxilish ili</th>\n",
       "      <th>Yurush</th>\n",
       "      <th>Qiymet</th>\n",
       "    </tr>\n",
       "  </thead>\n",
       "  <tbody>\n",
       "    <tr>\n",
       "      <th>0</th>\n",
       "      <td>1999</td>\n",
       "      <td>366000</td>\n",
       "      <td>12500.0</td>\n",
       "    </tr>\n",
       "    <tr>\n",
       "      <th>1</th>\n",
       "      <td>2014</td>\n",
       "      <td>102000</td>\n",
       "      <td>53550.0</td>\n",
       "    </tr>\n",
       "    <tr>\n",
       "      <th>2</th>\n",
       "      <td>2002</td>\n",
       "      <td>469700</td>\n",
       "      <td>11700.0</td>\n",
       "    </tr>\n",
       "    <tr>\n",
       "      <th>3</th>\n",
       "      <td>1998</td>\n",
       "      <td>556680</td>\n",
       "      <td>9700.0</td>\n",
       "    </tr>\n",
       "    <tr>\n",
       "      <th>4</th>\n",
       "      <td>2000</td>\n",
       "      <td>300000</td>\n",
       "      <td>12700.0</td>\n",
       "    </tr>\n",
       "    <tr>\n",
       "      <th>...</th>\n",
       "      <td>...</td>\n",
       "      <td>...</td>\n",
       "      <td>...</td>\n",
       "    </tr>\n",
       "    <tr>\n",
       "      <th>1323</th>\n",
       "      <td>1996</td>\n",
       "      <td>325000</td>\n",
       "      <td>8800.0</td>\n",
       "    </tr>\n",
       "    <tr>\n",
       "      <th>1324</th>\n",
       "      <td>1994</td>\n",
       "      <td>280000</td>\n",
       "      <td>6300.0</td>\n",
       "    </tr>\n",
       "    <tr>\n",
       "      <th>1325</th>\n",
       "      <td>1998</td>\n",
       "      <td>272000</td>\n",
       "      <td>10900.0</td>\n",
       "    </tr>\n",
       "    <tr>\n",
       "      <th>1326</th>\n",
       "      <td>2000</td>\n",
       "      <td>207000</td>\n",
       "      <td>11300.0</td>\n",
       "    </tr>\n",
       "    <tr>\n",
       "      <th>1327</th>\n",
       "      <td>1996</td>\n",
       "      <td>255700</td>\n",
       "      <td>10500.0</td>\n",
       "    </tr>\n",
       "  </tbody>\n",
       "</table>\n",
       "<p>1328 rows × 3 columns</p>\n",
       "</div>"
      ],
      "text/plain": [
       "      Buraxilish ili  Yurush   Qiymet\n",
       "0               1999  366000  12500.0\n",
       "1               2014  102000  53550.0\n",
       "2               2002  469700  11700.0\n",
       "3               1998  556680   9700.0\n",
       "4               2000  300000  12700.0\n",
       "...              ...     ...      ...\n",
       "1323            1996  325000   8800.0\n",
       "1324            1994  280000   6300.0\n",
       "1325            1998  272000  10900.0\n",
       "1326            2000  207000  11300.0\n",
       "1327            1996  255700  10500.0\n",
       "\n",
       "[1328 rows x 3 columns]"
      ]
     },
     "execution_count": 27,
     "metadata": {},
     "output_type": "execute_result"
    }
   ],
   "source": [
    "df"
   ]
  },
  {
   "cell_type": "code",
   "execution_count": 28,
   "id": "a1bcf888",
   "metadata": {},
   "outputs": [],
   "source": [
    "from sklearn.model_selection import train_test_split"
   ]
  },
  {
   "cell_type": "code",
   "execution_count": 29,
   "id": "435bb583",
   "metadata": {},
   "outputs": [],
   "source": [
    "# let's start normalization process\n",
    "df['Buraxilish ili'] = (df['Buraxilish ili'] - df['Buraxilish ili'].mean()) / df['Buraxilish ili'].std()\n",
    "df['Yurush'] = (df['Yurush'] - df['Yurush'].mean()) / df['Yurush'].std()\n",
    "df['Qiymet'] = (df['Qiymet'] - df['Qiymet'].mean()) / df['Qiymet'].std()\n",
    "\n",
    "X = df[['Buraxilish ili', 'Yurush']] # features\n",
    "y = df['Qiymet'] # labels\n",
    "\n",
    "X_train, X_test, y_train, y_test = train_test_split(X, y, test_size=0.1, random_state=42) #splitting the data for training and testing\n",
    "\n",
    "x0 = np.ones(len(X_train)) # as first column of w's are zeros, the first column of X_train should be of ones\n",
    "inputs = np.array([x0, X_train['Buraxilish ili'], X_train['Yurush']]).T\n",
    "\n",
    "w = np.array([0, 0, 0])\n",
    "outputs = y_train\n"
   ]
  },
  {
   "cell_type": "markdown",
   "id": "9a3249d6",
   "metadata": {},
   "source": [
    "## Printing final coefficients according to my model"
   ]
  },
  {
   "cell_type": "code",
   "execution_count": 30,
   "id": "eb90feb2",
   "metadata": {},
   "outputs": [
    {
     "data": {
      "text/plain": [
       "array([-0.00487982,  0.81707216, -0.09390129])"
      ]
     },
     "execution_count": 30,
     "metadata": {},
     "output_type": "execute_result"
    }
   ],
   "source": [
    "my_model = MyLinearRegression()\n",
    "final_coef = my_model.fit(inputs, outputs)\n",
    "final_coef"
   ]
  },
  {
   "cell_type": "code",
   "execution_count": 33,
   "id": "5eb18a8a",
   "metadata": {},
   "outputs": [
    {
     "data": {
      "text/plain": [
       "0.49084025071730075"
      ]
     },
     "execution_count": 33,
     "metadata": {},
     "output_type": "execute_result"
    }
   ],
   "source": [
    "my_model.cost_function(inputs, outputs, [0, 0, 0])"
   ]
  },
  {
   "cell_type": "code",
   "execution_count": 35,
   "id": "e26bfcaf",
   "metadata": {},
   "outputs": [
    {
     "data": {
      "text/plain": [
       "0.10637002887822936"
      ]
     },
     "execution_count": 35,
     "metadata": {},
     "output_type": "execute_result"
    }
   ],
   "source": [
    "my_model.cost_function(inputs, outputs, final_coef)"
   ]
  },
  {
   "cell_type": "code",
   "execution_count": 36,
   "id": "be544d8b",
   "metadata": {},
   "outputs": [
    {
     "data": {
      "text/plain": [
       "[<matplotlib.lines.Line2D at 0x1cfc18b4750>]"
      ]
     },
     "execution_count": 36,
     "metadata": {},
     "output_type": "execute_result"
    },
    {
     "data": {
      "image/png": "[encoded data removed]",
      "text/plain": [
       "<Figure size 640x480 with 1 Axes>"
      ]
     },
     "metadata": {},
     "output_type": "display_data"
    }
   ],
   "source": [
    "plt.plot(my_model.cost_historical)"
   ]
  },
  {
   "cell_type": "code",
   "execution_count": 37,
   "id": "e638955f",
   "metadata": {},
   "outputs": [],
   "source": [
    "X_test['prediction'] = final_coef[0] + X_test['Buraxilish ili'] * final_coef[1] + X_test['Yurush'] * final_coef[2]"
   ]
  },
  {
   "cell_type": "code",
   "execution_count": 38,
   "id": "a24bc8cb",
   "metadata": {},
   "outputs": [],
   "source": [
    "# X_test['prediction'] = model.predict(X_test)"
   ]
  },
  {
   "cell_type": "code",
   "execution_count": 39,
   "id": "4839b3aa",
   "metadata": {},
   "outputs": [
    {
     "data": {
      "text/html": [
       "<div>\n",
       "<style scoped>\n",
       "    .dataframe tbody tr th:only-of-type {\n",
       "        vertical-align: middle;\n",
       "    }\n",
       "\n",
       "    .dataframe tbody tr th {\n",
       "        vertical-align: top;\n",
       "    }\n",
       "\n",
       "    .dataframe thead th {\n",
       "        text-align: right;\n",
       "    }\n",
       "</style>\n",
       "<table border=\"1\" class=\"dataframe\">\n",
       "  <thead>\n",
       "    <tr style=\"text-align: right;\">\n",
       "      <th></th>\n",
       "      <th>Buraxilish ili</th>\n",
       "      <th>Yurush</th>\n",
       "      <th>prediction</th>\n",
       "    </tr>\n",
       "  </thead>\n",
       "  <tbody>\n",
       "    <tr>\n",
       "      <th>1201</th>\n",
       "      <td>-0.350117</td>\n",
       "      <td>0.669419</td>\n",
       "      <td>-0.353810</td>\n",
       "    </tr>\n",
       "    <tr>\n",
       "      <th>115</th>\n",
       "      <td>0.212783</td>\n",
       "      <td>-0.411624</td>\n",
       "      <td>0.207631</td>\n",
       "    </tr>\n",
       "    <tr>\n",
       "      <th>979</th>\n",
       "      <td>0.025150</td>\n",
       "      <td>-0.320428</td>\n",
       "      <td>0.045758</td>\n",
       "    </tr>\n",
       "    <tr>\n",
       "      <th>175</th>\n",
       "      <td>-0.913017</td>\n",
       "      <td>0.444646</td>\n",
       "      <td>-0.792634</td>\n",
       "    </tr>\n",
       "    <tr>\n",
       "      <th>63</th>\n",
       "      <td>-0.162484</td>\n",
       "      <td>0.715888</td>\n",
       "      <td>-0.204864</td>\n",
       "    </tr>\n",
       "    <tr>\n",
       "      <th>...</th>\n",
       "      <td>...</td>\n",
       "      <td>...</td>\n",
       "      <td>...</td>\n",
       "    </tr>\n",
       "    <tr>\n",
       "      <th>885</th>\n",
       "      <td>0.025150</td>\n",
       "      <td>0.317942</td>\n",
       "      <td>-0.014186</td>\n",
       "    </tr>\n",
       "    <tr>\n",
       "      <th>764</th>\n",
       "      <td>-0.537750</td>\n",
       "      <td>-0.378462</td>\n",
       "      <td>-0.408723</td>\n",
       "    </tr>\n",
       "    <tr>\n",
       "      <th>752</th>\n",
       "      <td>0.025150</td>\n",
       "      <td>0.351104</td>\n",
       "      <td>-0.017300</td>\n",
       "    </tr>\n",
       "    <tr>\n",
       "      <th>1270</th>\n",
       "      <td>-0.913017</td>\n",
       "      <td>0.666144</td>\n",
       "      <td>-0.813433</td>\n",
       "    </tr>\n",
       "    <tr>\n",
       "      <th>542</th>\n",
       "      <td>-0.162484</td>\n",
       "      <td>-0.676921</td>\n",
       "      <td>-0.074077</td>\n",
       "    </tr>\n",
       "  </tbody>\n",
       "</table>\n",
       "<p>133 rows × 3 columns</p>\n",
       "</div>"
      ],
      "text/plain": [
       "      Buraxilish ili    Yurush  prediction\n",
       "1201       -0.350117  0.669419   -0.353810\n",
       "115         0.212783 -0.411624    0.207631\n",
       "979         0.025150 -0.320428    0.045758\n",
       "175        -0.913017  0.444646   -0.792634\n",
       "63         -0.162484  0.715888   -0.204864\n",
       "...              ...       ...         ...\n",
       "885         0.025150  0.317942   -0.014186\n",
       "764        -0.537750 -0.378462   -0.408723\n",
       "752         0.025150  0.351104   -0.017300\n",
       "1270       -0.913017  0.666144   -0.813433\n",
       "542        -0.162484 -0.676921   -0.074077\n",
       "\n",
       "[133 rows x 3 columns]"
      ]
     },
     "execution_count": 39,
     "metadata": {},
     "output_type": "execute_result"
    }
   ],
   "source": [
    "X_test"
   ]
  },
  {
   "cell_type": "code",
   "execution_count": 40,
   "id": "b1cc826e",
   "metadata": {},
   "outputs": [],
   "source": [
    "y_test = pd.DataFrame(y_test)"
   ]
  },
  {
   "cell_type": "code",
   "execution_count": 41,
   "id": "c0928d23",
   "metadata": {},
   "outputs": [],
   "source": [
    "def denormalize_price(col):\n",
    "    col = col * df1['Qiymet'].std() + df1['Qiymet'].mean()\n",
    "    return col"
   ]
  },
  {
   "cell_type": "code",
   "execution_count": 42,
   "id": "553d4bdf",
   "metadata": {},
   "outputs": [
    {
     "data": {
      "text/plain": [
       "Index(['Qiymet'], dtype='object')"
      ]
     },
     "execution_count": 42,
     "metadata": {},
     "output_type": "execute_result"
    }
   ],
   "source": [
    "y_test['Qiymet'] = y_test['Qiymet'].apply(denormalize_price)\n",
    "y_test['Qiymet'] = y_test['Qiymet'].apply(denormalize_price)\n",
    "X_test['prediction'] = X_test['prediction'].apply(denormalize_price)\n",
    "y_test.columns"
   ]
  },
  {
   "cell_type": "markdown",
   "id": "6f2a9ec0",
   "metadata": {},
   "source": [
    "## Prediction for car 1201"
   ]
  },
  {
   "cell_type": "code",
   "execution_count": 43,
   "id": "fcbe1d56",
   "metadata": {
    "scrolled": false
   },
   "outputs": [
    {
     "data": {
      "text/html": [
       "<div>\n",
       "<style scoped>\n",
       "    .dataframe tbody tr th:only-of-type {\n",
       "        vertical-align: middle;\n",
       "    }\n",
       "\n",
       "    .dataframe tbody tr th {\n",
       "        vertical-align: top;\n",
       "    }\n",
       "\n",
       "    .dataframe thead th {\n",
       "        text-align: right;\n",
       "    }\n",
       "</style>\n",
       "<table border=\"1\" class=\"dataframe\">\n",
       "  <thead>\n",
       "    <tr style=\"text-align: right;\">\n",
       "      <th></th>\n",
       "      <th>Buraxilish ili</th>\n",
       "      <th>Yurush</th>\n",
       "      <th>prediction</th>\n",
       "    </tr>\n",
       "  </thead>\n",
       "  <tbody>\n",
       "    <tr>\n",
       "      <th>1201</th>\n",
       "      <td>-0.350117</td>\n",
       "      <td>0.669419</td>\n",
       "      <td>10286.799031</td>\n",
       "    </tr>\n",
       "    <tr>\n",
       "      <th>115</th>\n",
       "      <td>0.212783</td>\n",
       "      <td>-0.411624</td>\n",
       "      <td>17950.708447</td>\n",
       "    </tr>\n",
       "    <tr>\n",
       "      <th>979</th>\n",
       "      <td>0.025150</td>\n",
       "      <td>-0.320428</td>\n",
       "      <td>15741.068754</td>\n",
       "    </tr>\n",
       "    <tr>\n",
       "      <th>175</th>\n",
       "      <td>-0.913017</td>\n",
       "      <td>0.444646</td>\n",
       "      <td>4296.673928</td>\n",
       "    </tr>\n",
       "    <tr>\n",
       "      <th>63</th>\n",
       "      <td>-0.162484</td>\n",
       "      <td>0.715888</td>\n",
       "      <td>12319.981878</td>\n",
       "    </tr>\n",
       "    <tr>\n",
       "      <th>...</th>\n",
       "      <td>...</td>\n",
       "      <td>...</td>\n",
       "      <td>...</td>\n",
       "    </tr>\n",
       "    <tr>\n",
       "      <th>885</th>\n",
       "      <td>0.025150</td>\n",
       "      <td>0.317942</td>\n",
       "      <td>14922.810569</td>\n",
       "    </tr>\n",
       "    <tr>\n",
       "      <th>764</th>\n",
       "      <td>-0.537750</td>\n",
       "      <td>-0.378462</td>\n",
       "      <td>9537.218864</td>\n",
       "    </tr>\n",
       "    <tr>\n",
       "      <th>752</th>\n",
       "      <td>0.025150</td>\n",
       "      <td>0.351104</td>\n",
       "      <td>14880.303650</td>\n",
       "    </tr>\n",
       "    <tr>\n",
       "      <th>1270</th>\n",
       "      <td>-0.913017</td>\n",
       "      <td>0.666144</td>\n",
       "      <td>4012.759591</td>\n",
       "    </tr>\n",
       "    <tr>\n",
       "      <th>542</th>\n",
       "      <td>-0.162484</td>\n",
       "      <td>-0.676921</td>\n",
       "      <td>14105.272465</td>\n",
       "    </tr>\n",
       "  </tbody>\n",
       "</table>\n",
       "<p>133 rows × 3 columns</p>\n",
       "</div>"
      ],
      "text/plain": [
       "      Buraxilish ili    Yurush    prediction\n",
       "1201       -0.350117  0.669419  10286.799031\n",
       "115         0.212783 -0.411624  17950.708447\n",
       "979         0.025150 -0.320428  15741.068754\n",
       "175        -0.913017  0.444646   4296.673928\n",
       "63         -0.162484  0.715888  12319.981878\n",
       "...              ...       ...           ...\n",
       "885         0.025150  0.317942  14922.810569\n",
       "764        -0.537750 -0.378462   9537.218864\n",
       "752         0.025150  0.351104  14880.303650\n",
       "1270       -0.913017  0.666144   4012.759591\n",
       "542        -0.162484 -0.676921  14105.272465\n",
       "\n",
       "[133 rows x 3 columns]"
      ]
     },
     "execution_count": 43,
     "metadata": {},
     "output_type": "execute_result"
    }
   ],
   "source": [
    "X_test"
   ]
  },
  {
   "cell_type": "markdown",
   "id": "8803ff11",
   "metadata": {},
   "source": [
    "# With built-in Library"
   ]
  },
  {
   "cell_type": "code",
   "execution_count": 44,
   "id": "5ac97286",
   "metadata": {
    "scrolled": false
   },
   "outputs": [
    {
     "data": {
      "text/html": [
       "<div>\n",
       "<style scoped>\n",
       "    .dataframe tbody tr th:only-of-type {\n",
       "        vertical-align: middle;\n",
       "    }\n",
       "\n",
       "    .dataframe tbody tr th {\n",
       "        vertical-align: top;\n",
       "    }\n",
       "\n",
       "    .dataframe thead th {\n",
       "        text-align: right;\n",
       "    }\n",
       "</style>\n",
       "<table border=\"1\" class=\"dataframe\">\n",
       "  <thead>\n",
       "    <tr style=\"text-align: right;\">\n",
       "      <th></th>\n",
       "      <th>Buraxilish ili</th>\n",
       "      <th>Yurush</th>\n",
       "      <th>prediction</th>\n",
       "    </tr>\n",
       "  </thead>\n",
       "  <tbody>\n",
       "    <tr>\n",
       "      <th>1201</th>\n",
       "      <td>-0.350117</td>\n",
       "      <td>0.669419</td>\n",
       "      <td>10286.799031</td>\n",
       "    </tr>\n",
       "    <tr>\n",
       "      <th>115</th>\n",
       "      <td>0.212783</td>\n",
       "      <td>-0.411624</td>\n",
       "      <td>17950.708447</td>\n",
       "    </tr>\n",
       "    <tr>\n",
       "      <th>979</th>\n",
       "      <td>0.025150</td>\n",
       "      <td>-0.320428</td>\n",
       "      <td>15741.068754</td>\n",
       "    </tr>\n",
       "    <tr>\n",
       "      <th>175</th>\n",
       "      <td>-0.913017</td>\n",
       "      <td>0.444646</td>\n",
       "      <td>4296.673928</td>\n",
       "    </tr>\n",
       "    <tr>\n",
       "      <th>63</th>\n",
       "      <td>-0.162484</td>\n",
       "      <td>0.715888</td>\n",
       "      <td>12319.981878</td>\n",
       "    </tr>\n",
       "    <tr>\n",
       "      <th>...</th>\n",
       "      <td>...</td>\n",
       "      <td>...</td>\n",
       "      <td>...</td>\n",
       "    </tr>\n",
       "    <tr>\n",
       "      <th>885</th>\n",
       "      <td>0.025150</td>\n",
       "      <td>0.317942</td>\n",
       "      <td>14922.810569</td>\n",
       "    </tr>\n",
       "    <tr>\n",
       "      <th>764</th>\n",
       "      <td>-0.537750</td>\n",
       "      <td>-0.378462</td>\n",
       "      <td>9537.218864</td>\n",
       "    </tr>\n",
       "    <tr>\n",
       "      <th>752</th>\n",
       "      <td>0.025150</td>\n",
       "      <td>0.351104</td>\n",
       "      <td>14880.303650</td>\n",
       "    </tr>\n",
       "    <tr>\n",
       "      <th>1270</th>\n",
       "      <td>-0.913017</td>\n",
       "      <td>0.666144</td>\n",
       "      <td>4012.759591</td>\n",
       "    </tr>\n",
       "    <tr>\n",
       "      <th>542</th>\n",
       "      <td>-0.162484</td>\n",
       "      <td>-0.676921</td>\n",
       "      <td>14105.272465</td>\n",
       "    </tr>\n",
       "  </tbody>\n",
       "</table>\n",
       "<p>133 rows × 3 columns</p>\n",
       "</div>"
      ],
      "text/plain": [
       "      Buraxilish ili    Yurush    prediction\n",
       "1201       -0.350117  0.669419  10286.799031\n",
       "115         0.212783 -0.411624  17950.708447\n",
       "979         0.025150 -0.320428  15741.068754\n",
       "175        -0.913017  0.444646   4296.673928\n",
       "63         -0.162484  0.715888  12319.981878\n",
       "...              ...       ...           ...\n",
       "885         0.025150  0.317942  14922.810569\n",
       "764        -0.537750 -0.378462   9537.218864\n",
       "752         0.025150  0.351104  14880.303650\n",
       "1270       -0.913017  0.666144   4012.759591\n",
       "542        -0.162484 -0.676921  14105.272465\n",
       "\n",
       "[133 rows x 3 columns]"
      ]
     },
     "execution_count": 44,
     "metadata": {},
     "output_type": "execute_result"
    }
   ],
   "source": [
    "X_test"
   ]
  },
  {
   "cell_type": "code",
   "execution_count": 61,
   "id": "8c4486c2",
   "metadata": {},
   "outputs": [
    {
     "name": "stdout",
     "output_type": "stream",
     "text": [
      "[ 0.82231452 -0.0886543 ]\n"
     ]
    }
   ],
   "source": [
    "from sklearn.linear_model import LinearRegression\n",
    "from sklearn.metrics import mean_squared_error\n",
    "\n",
    "model = LinearRegression()\n",
    "model.fit(X_train, y_train)\n",
    "\n",
    "# y_pred = model.predict(X_test.drop('prediction', axis=1))\n",
    "\n",
    "# mse = mean_squared_error(y_test, y_pred)\n",
    "\n",
    "model.predict(X_test.drop('prediction', axis=1)) # since we later added prediction column to our model\n",
    "print(model.coef_)\n",
    "# print(y_test)\n",
    "# print(mse/(2*len(y_test)))"
   ]
  },
  {
   "cell_type": "code",
   "execution_count": 62,
   "id": "2ce69cfc",
   "metadata": {},
   "outputs": [
    {
     "name": "stderr",
     "output_type": "stream",
     "text": [
      "C:\\Users\\gulma\\anaconda3\\Lib\\site-packages\\sklearn\\base.py:439: UserWarning: X does not have valid feature names, but LinearRegression was fitted with feature names\n",
      "  warnings.warn(\n"
     ]
    },
    {
     "data": {
      "text/plain": [
       "array([-0.35215919])"
      ]
     },
     "execution_count": 62,
     "metadata": {},
     "output_type": "execute_result"
    }
   ],
   "source": [
    "model.predict([[-0.350117, 0.669419]]) #let's check for car 1201"
   ]
  },
  {
   "cell_type": "markdown",
   "id": "425c58c6",
   "metadata": {},
   "source": [
    "## Prediction of Built-in Library"
   ]
  },
  {
   "cell_type": "code",
   "execution_count": 63,
   "id": "d7b81f10",
   "metadata": {},
   "outputs": [
    {
     "data": {
      "text/plain": [
       "10309.33402899674"
      ]
     },
     "execution_count": 63,
     "metadata": {},
     "output_type": "execute_result"
    }
   ],
   "source": [
    "-0.35215919 * df1.Qiymet.std()+ df1.Qiymet.mean()"
   ]
  },
  {
   "cell_type": "code",
   "execution_count": 64,
   "id": "888ec5fe",
   "metadata": {},
   "outputs": [
    {
     "data": {
      "text/plain": [
       "Sheher                                                           Bakı\n",
       "Marka                                                        Mercedes\n",
       "Model                                                           C 180\n",
       "Buraxilish ili                                                   1998\n",
       "Ban novu                                                    Universal\n",
       "Reng                                                            Yaşıl\n",
       "Muherrikin hecmi                                                1.8 L\n",
       "Muherrikin gucu                                              122 a.g.\n",
       "Yanacaq novu                                                   Benzin\n",
       "Yurush                                                         360395\n",
       "Suretler qutusu                                              Mexaniki\n",
       "Oturucu                                                          Arxa\n",
       "Yeni                                                             Xeyr\n",
       "Qiymet                                                        11500.0\n",
       "Extra Info          Yüngül lehimli disklər,ABS,Yağış sensoru,Kondi...\n",
       "Seller comment      Masn saz vezyetdedi.hecbir xerc teleb etmir. M...\n",
       "Name: 1201, dtype: object"
      ]
     },
     "execution_count": 64,
     "metadata": {},
     "output_type": "execute_result"
    }
   ],
   "source": [
    "df1.iloc[1201]"
   ]
  },
  {
   "cell_type": "markdown",
   "id": "7f54e18a",
   "metadata": {},
   "source": [
    "# Conclusion"
   ]
  },
  {
   "cell_type": "markdown",
   "id": "3ba9eb51",
   "metadata": {},
   "source": [
    "<h4> Actual price of the car with id 1201 was 11500. My model predicted it to be <em> 10286 </em>, while built-in model from sklearn predicted it as <em>10309</em>. Values are close to each other. <h4>"
   ]
  }
 ],
 "metadata": {
  "kernelspec": {
   "display_name": "Python 3 (ipykernel)",
   "language": "python",
   "name": "python3"
  },
  "language_info": {
   "codemirror_mode": {
    "name": "ipython",
    "version": 3
   },
   "file_extension": ".py",
   "mimetype": "text/x-python",
   "name": "python",
   "nbconvert_exporter": "python",
   "pygments_lexer": "ipython3",
   "version": "3.11.7"
  }
 },
 "nbformat": 4,
 "nbformat_minor": 5
}
