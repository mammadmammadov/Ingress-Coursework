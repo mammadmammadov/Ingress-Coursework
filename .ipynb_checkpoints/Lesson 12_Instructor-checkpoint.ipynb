{
 "cells": [
  {
   "cell_type": "code",
   "execution_count": null,
   "id": "3daae3a9-b399-4778-a3d3-8e309071a61d",
   "metadata": {},
   "outputs": [],
   "source": []
  },
  {
   "cell_type": "code",
   "execution_count": 2,
   "id": "bd4dc0fc-e5b0-40dc-b0e6-72ef0d3291cf",
   "metadata": {},
   "outputs": [
    {
     "ename": "FileNotFoundError",
     "evalue": "[Errno 2] No such file or directory: '../Lesson 5/data/turboaz.csv'",
     "output_type": "error",
     "traceback": [
      "\u001b[1;31m---------------------------------------------------------------------------\u001b[0m",
      "\u001b[1;31mFileNotFoundError\u001b[0m                         Traceback (most recent call last)",
      "Cell \u001b[1;32mIn[2], line 3\u001b[0m\n\u001b[0;32m      1\u001b[0m \u001b[38;5;28;01mimport\u001b[39;00m \u001b[38;5;21;01mpandas\u001b[39;00m \u001b[38;5;28;01mas\u001b[39;00m \u001b[38;5;21;01mpd\u001b[39;00m \n\u001b[1;32m----> 3\u001b[0m df1 \u001b[38;5;241m=\u001b[39m pd\u001b[38;5;241m.\u001b[39mread_csv(\u001b[38;5;124m'\u001b[39m\u001b[38;5;124m../Lesson 5/data/turboaz.csv\u001b[39m\u001b[38;5;124m'\u001b[39m)\n",
      "File \u001b[1;32m~\\anaconda3\\Lib\\site-packages\\pandas\\io\\parsers\\readers.py:948\u001b[0m, in \u001b[0;36mread_csv\u001b[1;34m(filepath_or_buffer, sep, delimiter, header, names, index_col, usecols, dtype, engine, converters, true_values, false_values, skipinitialspace, skiprows, skipfooter, nrows, na_values, keep_default_na, na_filter, verbose, skip_blank_lines, parse_dates, infer_datetime_format, keep_date_col, date_parser, date_format, dayfirst, cache_dates, iterator, chunksize, compression, thousands, decimal, lineterminator, quotechar, quoting, doublequote, escapechar, comment, encoding, encoding_errors, dialect, on_bad_lines, delim_whitespace, low_memory, memory_map, float_precision, storage_options, dtype_backend)\u001b[0m\n\u001b[0;32m    935\u001b[0m kwds_defaults \u001b[38;5;241m=\u001b[39m _refine_defaults_read(\n\u001b[0;32m    936\u001b[0m     dialect,\n\u001b[0;32m    937\u001b[0m     delimiter,\n\u001b[1;32m   (...)\u001b[0m\n\u001b[0;32m    944\u001b[0m     dtype_backend\u001b[38;5;241m=\u001b[39mdtype_backend,\n\u001b[0;32m    945\u001b[0m )\n\u001b[0;32m    946\u001b[0m kwds\u001b[38;5;241m.\u001b[39mupdate(kwds_defaults)\n\u001b[1;32m--> 948\u001b[0m \u001b[38;5;28;01mreturn\u001b[39;00m _read(filepath_or_buffer, kwds)\n",
      "File \u001b[1;32m~\\anaconda3\\Lib\\site-packages\\pandas\\io\\parsers\\readers.py:611\u001b[0m, in \u001b[0;36m_read\u001b[1;34m(filepath_or_buffer, kwds)\u001b[0m\n\u001b[0;32m    608\u001b[0m _validate_names(kwds\u001b[38;5;241m.\u001b[39mget(\u001b[38;5;124m\"\u001b[39m\u001b[38;5;124mnames\u001b[39m\u001b[38;5;124m\"\u001b[39m, \u001b[38;5;28;01mNone\u001b[39;00m))\n\u001b[0;32m    610\u001b[0m \u001b[38;5;66;03m# Create the parser.\u001b[39;00m\n\u001b[1;32m--> 611\u001b[0m parser \u001b[38;5;241m=\u001b[39m TextFileReader(filepath_or_buffer, \u001b[38;5;241m*\u001b[39m\u001b[38;5;241m*\u001b[39mkwds)\n\u001b[0;32m    613\u001b[0m \u001b[38;5;28;01mif\u001b[39;00m chunksize \u001b[38;5;129;01mor\u001b[39;00m iterator:\n\u001b[0;32m    614\u001b[0m     \u001b[38;5;28;01mreturn\u001b[39;00m parser\n",
      "File \u001b[1;32m~\\anaconda3\\Lib\\site-packages\\pandas\\io\\parsers\\readers.py:1448\u001b[0m, in \u001b[0;36mTextFileReader.__init__\u001b[1;34m(self, f, engine, **kwds)\u001b[0m\n\u001b[0;32m   1445\u001b[0m     \u001b[38;5;28mself\u001b[39m\u001b[38;5;241m.\u001b[39moptions[\u001b[38;5;124m\"\u001b[39m\u001b[38;5;124mhas_index_names\u001b[39m\u001b[38;5;124m\"\u001b[39m] \u001b[38;5;241m=\u001b[39m kwds[\u001b[38;5;124m\"\u001b[39m\u001b[38;5;124mhas_index_names\u001b[39m\u001b[38;5;124m\"\u001b[39m]\n\u001b[0;32m   1447\u001b[0m \u001b[38;5;28mself\u001b[39m\u001b[38;5;241m.\u001b[39mhandles: IOHandles \u001b[38;5;241m|\u001b[39m \u001b[38;5;28;01mNone\u001b[39;00m \u001b[38;5;241m=\u001b[39m \u001b[38;5;28;01mNone\u001b[39;00m\n\u001b[1;32m-> 1448\u001b[0m \u001b[38;5;28mself\u001b[39m\u001b[38;5;241m.\u001b[39m_engine \u001b[38;5;241m=\u001b[39m \u001b[38;5;28mself\u001b[39m\u001b[38;5;241m.\u001b[39m_make_engine(f, \u001b[38;5;28mself\u001b[39m\u001b[38;5;241m.\u001b[39mengine)\n",
      "File \u001b[1;32m~\\anaconda3\\Lib\\site-packages\\pandas\\io\\parsers\\readers.py:1705\u001b[0m, in \u001b[0;36mTextFileReader._make_engine\u001b[1;34m(self, f, engine)\u001b[0m\n\u001b[0;32m   1703\u001b[0m     \u001b[38;5;28;01mif\u001b[39;00m \u001b[38;5;124m\"\u001b[39m\u001b[38;5;124mb\u001b[39m\u001b[38;5;124m\"\u001b[39m \u001b[38;5;129;01mnot\u001b[39;00m \u001b[38;5;129;01min\u001b[39;00m mode:\n\u001b[0;32m   1704\u001b[0m         mode \u001b[38;5;241m+\u001b[39m\u001b[38;5;241m=\u001b[39m \u001b[38;5;124m\"\u001b[39m\u001b[38;5;124mb\u001b[39m\u001b[38;5;124m\"\u001b[39m\n\u001b[1;32m-> 1705\u001b[0m \u001b[38;5;28mself\u001b[39m\u001b[38;5;241m.\u001b[39mhandles \u001b[38;5;241m=\u001b[39m get_handle(\n\u001b[0;32m   1706\u001b[0m     f,\n\u001b[0;32m   1707\u001b[0m     mode,\n\u001b[0;32m   1708\u001b[0m     encoding\u001b[38;5;241m=\u001b[39m\u001b[38;5;28mself\u001b[39m\u001b[38;5;241m.\u001b[39moptions\u001b[38;5;241m.\u001b[39mget(\u001b[38;5;124m\"\u001b[39m\u001b[38;5;124mencoding\u001b[39m\u001b[38;5;124m\"\u001b[39m, \u001b[38;5;28;01mNone\u001b[39;00m),\n\u001b[0;32m   1709\u001b[0m     compression\u001b[38;5;241m=\u001b[39m\u001b[38;5;28mself\u001b[39m\u001b[38;5;241m.\u001b[39moptions\u001b[38;5;241m.\u001b[39mget(\u001b[38;5;124m\"\u001b[39m\u001b[38;5;124mcompression\u001b[39m\u001b[38;5;124m\"\u001b[39m, \u001b[38;5;28;01mNone\u001b[39;00m),\n\u001b[0;32m   1710\u001b[0m     memory_map\u001b[38;5;241m=\u001b[39m\u001b[38;5;28mself\u001b[39m\u001b[38;5;241m.\u001b[39moptions\u001b[38;5;241m.\u001b[39mget(\u001b[38;5;124m\"\u001b[39m\u001b[38;5;124mmemory_map\u001b[39m\u001b[38;5;124m\"\u001b[39m, \u001b[38;5;28;01mFalse\u001b[39;00m),\n\u001b[0;32m   1711\u001b[0m     is_text\u001b[38;5;241m=\u001b[39mis_text,\n\u001b[0;32m   1712\u001b[0m     errors\u001b[38;5;241m=\u001b[39m\u001b[38;5;28mself\u001b[39m\u001b[38;5;241m.\u001b[39moptions\u001b[38;5;241m.\u001b[39mget(\u001b[38;5;124m\"\u001b[39m\u001b[38;5;124mencoding_errors\u001b[39m\u001b[38;5;124m\"\u001b[39m, \u001b[38;5;124m\"\u001b[39m\u001b[38;5;124mstrict\u001b[39m\u001b[38;5;124m\"\u001b[39m),\n\u001b[0;32m   1713\u001b[0m     storage_options\u001b[38;5;241m=\u001b[39m\u001b[38;5;28mself\u001b[39m\u001b[38;5;241m.\u001b[39moptions\u001b[38;5;241m.\u001b[39mget(\u001b[38;5;124m\"\u001b[39m\u001b[38;5;124mstorage_options\u001b[39m\u001b[38;5;124m\"\u001b[39m, \u001b[38;5;28;01mNone\u001b[39;00m),\n\u001b[0;32m   1714\u001b[0m )\n\u001b[0;32m   1715\u001b[0m \u001b[38;5;28;01massert\u001b[39;00m \u001b[38;5;28mself\u001b[39m\u001b[38;5;241m.\u001b[39mhandles \u001b[38;5;129;01mis\u001b[39;00m \u001b[38;5;129;01mnot\u001b[39;00m \u001b[38;5;28;01mNone\u001b[39;00m\n\u001b[0;32m   1716\u001b[0m f \u001b[38;5;241m=\u001b[39m \u001b[38;5;28mself\u001b[39m\u001b[38;5;241m.\u001b[39mhandles\u001b[38;5;241m.\u001b[39mhandle\n",
      "File \u001b[1;32m~\\anaconda3\\Lib\\site-packages\\pandas\\io\\common.py:863\u001b[0m, in \u001b[0;36mget_handle\u001b[1;34m(path_or_buf, mode, encoding, compression, memory_map, is_text, errors, storage_options)\u001b[0m\n\u001b[0;32m    858\u001b[0m \u001b[38;5;28;01melif\u001b[39;00m \u001b[38;5;28misinstance\u001b[39m(handle, \u001b[38;5;28mstr\u001b[39m):\n\u001b[0;32m    859\u001b[0m     \u001b[38;5;66;03m# Check whether the filename is to be opened in binary mode.\u001b[39;00m\n\u001b[0;32m    860\u001b[0m     \u001b[38;5;66;03m# Binary mode does not support 'encoding' and 'newline'.\u001b[39;00m\n\u001b[0;32m    861\u001b[0m     \u001b[38;5;28;01mif\u001b[39;00m ioargs\u001b[38;5;241m.\u001b[39mencoding \u001b[38;5;129;01mand\u001b[39;00m \u001b[38;5;124m\"\u001b[39m\u001b[38;5;124mb\u001b[39m\u001b[38;5;124m\"\u001b[39m \u001b[38;5;129;01mnot\u001b[39;00m \u001b[38;5;129;01min\u001b[39;00m ioargs\u001b[38;5;241m.\u001b[39mmode:\n\u001b[0;32m    862\u001b[0m         \u001b[38;5;66;03m# Encoding\u001b[39;00m\n\u001b[1;32m--> 863\u001b[0m         handle \u001b[38;5;241m=\u001b[39m \u001b[38;5;28mopen\u001b[39m(\n\u001b[0;32m    864\u001b[0m             handle,\n\u001b[0;32m    865\u001b[0m             ioargs\u001b[38;5;241m.\u001b[39mmode,\n\u001b[0;32m    866\u001b[0m             encoding\u001b[38;5;241m=\u001b[39mioargs\u001b[38;5;241m.\u001b[39mencoding,\n\u001b[0;32m    867\u001b[0m             errors\u001b[38;5;241m=\u001b[39merrors,\n\u001b[0;32m    868\u001b[0m             newline\u001b[38;5;241m=\u001b[39m\u001b[38;5;124m\"\u001b[39m\u001b[38;5;124m\"\u001b[39m,\n\u001b[0;32m    869\u001b[0m         )\n\u001b[0;32m    870\u001b[0m     \u001b[38;5;28;01melse\u001b[39;00m:\n\u001b[0;32m    871\u001b[0m         \u001b[38;5;66;03m# Binary mode\u001b[39;00m\n\u001b[0;32m    872\u001b[0m         handle \u001b[38;5;241m=\u001b[39m \u001b[38;5;28mopen\u001b[39m(handle, ioargs\u001b[38;5;241m.\u001b[39mmode)\n",
      "\u001b[1;31mFileNotFoundError\u001b[0m: [Errno 2] No such file or directory: '../Lesson 5/data/turboaz.csv'"
     ]
    }
   ],
   "source": [
    "import pandas as pd \n",
    "\n",
    "df1 = pd.read_csv('../Lesson 5/data/turboaz.csv')"
   ]
  },
  {
   "cell_type": "code",
   "execution_count": null,
   "id": "1fd101a3-f942-4dec-b2a0-019c2eb07dc1",
   "metadata": {},
   "outputs": [],
   "source": [
    "\n",
    "def applyAZN(col):\n",
    "    lst = col.split()\n",
    "    if 'AZN' in col:\n",
    "        return float(lst[0])\n",
    "    if '$' in col: \n",
    "        return float(lst[0]) * 1.7\n",
    "    return 0\n",
    "\n",
    "df1['Qiymet'] = df1['Qiymet'].apply(applyAZN)\n",
    "df1['Yurush'] = df1['Yurush'].apply(lambda x: int(''.join(x.strip().replace('km', '').split())))\n",
    "\n",
    "df = df1[['Buraxilish ili', 'Yurush', 'Qiymet']].copy()\n"
   ]
  },
  {
   "cell_type": "code",
   "execution_count": null,
   "id": "9e28168f-0329-47ee-87d0-61f591249d1a",
   "metadata": {},
   "outputs": [],
   "source": [
    "df"
   ]
  },
  {
   "cell_type": "code",
   "execution_count": null,
   "id": "f5d20eb3-571e-4f17-8259-93b2b7965200",
   "metadata": {},
   "outputs": [],
   "source": [
    "import numpy as np \n",
    "\n",
    "def costFunction(X, Y, W):\n",
    "    h = X.dot(W)\n",
    "    J = np.sum(((h - Y) **2) / (2 * len(Y)))\n",
    "    return J"
   ]
  },
  {
   "cell_type": "code",
   "execution_count": 3,
   "id": "db1a3650-d8e7-4e1d-acbc-18e663f22902",
   "metadata": {},
   "outputs": [],
   "source": [
    "from sklearn.model_selection import train_test_split"
   ]
  },
  {
   "cell_type": "code",
   "execution_count": 4,
   "id": "5cb48ee3-3e51-4353-9ae8-21efb84440df",
   "metadata": {},
   "outputs": [
    {
     "ename": "NameError",
     "evalue": "name 'df' is not defined",
     "output_type": "error",
     "traceback": [
      "\u001b[1;31m---------------------------------------------------------------------------\u001b[0m",
      "\u001b[1;31mNameError\u001b[0m                                 Traceback (most recent call last)",
      "Cell \u001b[1;32mIn[4], line 1\u001b[0m\n\u001b[1;32m----> 1\u001b[0m df[\u001b[38;5;124m'\u001b[39m\u001b[38;5;124mBuraxilish ili\u001b[39m\u001b[38;5;124m'\u001b[39m] \u001b[38;5;241m=\u001b[39m (df[\u001b[38;5;124m'\u001b[39m\u001b[38;5;124mBuraxilish ili\u001b[39m\u001b[38;5;124m'\u001b[39m] \u001b[38;5;241m-\u001b[39mdf[\u001b[38;5;124m'\u001b[39m\u001b[38;5;124mBuraxilish ili\u001b[39m\u001b[38;5;124m'\u001b[39m]\u001b[38;5;241m.\u001b[39mmean() )\u001b[38;5;241m/\u001b[39mdf[\u001b[38;5;124m'\u001b[39m\u001b[38;5;124mBuraxilish ili\u001b[39m\u001b[38;5;124m'\u001b[39m]\u001b[38;5;241m.\u001b[39mstd()\n\u001b[0;32m      2\u001b[0m df[\u001b[38;5;124m'\u001b[39m\u001b[38;5;124mYurush\u001b[39m\u001b[38;5;124m'\u001b[39m] \u001b[38;5;241m=\u001b[39m (df[\u001b[38;5;124m'\u001b[39m\u001b[38;5;124mYurush\u001b[39m\u001b[38;5;124m'\u001b[39m] \u001b[38;5;241m-\u001b[39m df[\u001b[38;5;124m'\u001b[39m\u001b[38;5;124mYurush\u001b[39m\u001b[38;5;124m'\u001b[39m]\u001b[38;5;241m.\u001b[39mmean() )\u001b[38;5;241m/\u001b[39mdf[\u001b[38;5;124m'\u001b[39m\u001b[38;5;124mYurush\u001b[39m\u001b[38;5;124m'\u001b[39m]\u001b[38;5;241m.\u001b[39mstd()\n\u001b[0;32m      3\u001b[0m df[\u001b[38;5;124m'\u001b[39m\u001b[38;5;124mQiymet\u001b[39m\u001b[38;5;124m'\u001b[39m] \u001b[38;5;241m=\u001b[39m (df[\u001b[38;5;124m'\u001b[39m\u001b[38;5;124mQiymet\u001b[39m\u001b[38;5;124m'\u001b[39m] \u001b[38;5;241m-\u001b[39m df[\u001b[38;5;124m'\u001b[39m\u001b[38;5;124mQiymet\u001b[39m\u001b[38;5;124m'\u001b[39m]\u001b[38;5;241m.\u001b[39mmean() )\u001b[38;5;241m/\u001b[39mdf[\u001b[38;5;124m'\u001b[39m\u001b[38;5;124mQiymet\u001b[39m\u001b[38;5;124m'\u001b[39m]\u001b[38;5;241m.\u001b[39mstd()\n",
      "\u001b[1;31mNameError\u001b[0m: name 'df' is not defined"
     ]
    }
   ],
   "source": [
    "df['Buraxilish ili'] = (df['Buraxilish ili'] -df['Buraxilish ili'].mean() )/df['Buraxilish ili'].std()\n",
    "df['Yurush'] = (df['Yurush'] - df['Yurush'].mean() )/df['Yurush'].std()\n",
    "df['Qiymet'] = (df['Qiymet'] - df['Qiymet'].mean() )/df['Qiymet'].std()\n",
    "\n",
    "X = df[['Buraxilish ili', 'Yurush']]\n",
    "y = df['Qiymet']\n",
    "\n",
    "X_train, X_test, y_train, y_test = train_test_split(X, y, test_size=0.1, random_state = 42)\n",
    "\n",
    "\n",
    "\n",
    "x0 = np.ones(len(X_train))\n",
    "inputs  = np.array([x0, X_train['Buraxilish ili'] , X_train['Yurush']]).T\n",
    "w       = np.array([0, 0, 0])\n",
    "outputs = y_train"
   ]
  },
  {
   "cell_type": "code",
   "execution_count": null,
   "id": "5cbecb99-e1d4-4604-9aed-4d0fee2bc2b0",
   "metadata": {},
   "outputs": [],
   "source": []
  },
  {
   "cell_type": "code",
   "execution_count": 7,
   "id": "f3c6a7bc-68b5-419f-9a97-45d5dc55a4b3",
   "metadata": {},
   "outputs": [
    {
     "data": {
      "text/plain": [
       "0.49084025071730075"
      ]
     },
     "execution_count": 7,
     "metadata": {},
     "output_type": "execute_result"
    }
   ],
   "source": [
    "costFunction(inputs, outputs, w)"
   ]
  },
  {
   "cell_type": "code",
   "execution_count": 8,
   "id": "18d1b8bd-f352-44af-8df1-621fc447da58",
   "metadata": {},
   "outputs": [],
   "source": [
    "costHistorical = []\n",
    "\n",
    "def gradientDescent(X, Y, W, alpha = 0.001, iteration = 10000):\n",
    "    for i in range(iteration):\n",
    "        h = X.dot(W)\n",
    "        diff = h - Y\n",
    "\n",
    "        g = (X.T.dot(diff))/len(Y)\n",
    "        W = W - alpha * g\n",
    "        costHistorical.append(costFunction(X,Y,W))\n",
    "    return W"
   ]
  },
  {
   "cell_type": "code",
   "execution_count": 9,
   "id": "3f4a4d63-56e4-4d7f-a912-37200d5c4c16",
   "metadata": {},
   "outputs": [],
   "source": [
    "final_coef = gradientDescent(inputs, outputs, w)"
   ]
  },
  {
   "cell_type": "code",
   "execution_count": 10,
   "id": "73847ae2-c4a6-4db9-95a9-b3b377785d96",
   "metadata": {},
   "outputs": [
    {
     "data": {
      "text/plain": [
       "[<matplotlib.lines.Line2D at 0x17df64e10>]"
      ]
     },
     "execution_count": 10,
     "metadata": {},
     "output_type": "execute_result"
    },
    {
     "data": {
      "image/png": "[encoded data removed]",
      "text/plain": [
       "<Figure size 640x480 with 1 Axes>"
      ]
     },
     "metadata": {},
     "output_type": "display_data"
    }
   ],
   "source": [
    "import matplotlib.pyplot as plt\n",
    "\n",
    "plt.plot(costHistorical)"
   ]
  },
  {
   "cell_type": "code",
   "execution_count": 11,
   "id": "958d02f5-bcd8-481c-af7d-82f63874d64e",
   "metadata": {},
   "outputs": [],
   "source": [
    "X_test['prediction'] = X_test['Buraxilish ili'] * final_coef[1] + X_test['Yurush'] * final_coef[2] + final_coef[0] * 1"
   ]
  },
  {
   "cell_type": "code",
   "execution_count": 12,
   "id": "010e4259-14a5-426b-91bc-fd1593a19dbf",
   "metadata": {},
   "outputs": [
    {
     "data": {
      "text/html": [
       "<div>\n",
       "<style scoped>\n",
       "    .dataframe tbody tr th:only-of-type {\n",
       "        vertical-align: middle;\n",
       "    }\n",
       "\n",
       "    .dataframe tbody tr th {\n",
       "        vertical-align: top;\n",
       "    }\n",
       "\n",
       "    .dataframe thead th {\n",
       "        text-align: right;\n",
       "    }\n",
       "</style>\n",
       "<table border=\"1\" class=\"dataframe\">\n",
       "  <thead>\n",
       "    <tr style=\"text-align: right;\">\n",
       "      <th></th>\n",
       "      <th>Buraxilish ili</th>\n",
       "      <th>Yurush</th>\n",
       "      <th>prediction</th>\n",
       "    </tr>\n",
       "  </thead>\n",
       "  <tbody>\n",
       "    <tr>\n",
       "      <th>1201</th>\n",
       "      <td>-0.350117</td>\n",
       "      <td>0.669419</td>\n",
       "      <td>-0.353810</td>\n",
       "    </tr>\n",
       "    <tr>\n",
       "      <th>115</th>\n",
       "      <td>0.212783</td>\n",
       "      <td>-0.411624</td>\n",
       "      <td>0.207631</td>\n",
       "    </tr>\n",
       "    <tr>\n",
       "      <th>979</th>\n",
       "      <td>0.025150</td>\n",
       "      <td>-0.320428</td>\n",
       "      <td>0.045758</td>\n",
       "    </tr>\n",
       "    <tr>\n",
       "      <th>175</th>\n",
       "      <td>-0.913017</td>\n",
       "      <td>0.444646</td>\n",
       "      <td>-0.792634</td>\n",
       "    </tr>\n",
       "    <tr>\n",
       "      <th>63</th>\n",
       "      <td>-0.162484</td>\n",
       "      <td>0.715888</td>\n",
       "      <td>-0.204864</td>\n",
       "    </tr>\n",
       "    <tr>\n",
       "      <th>...</th>\n",
       "      <td>...</td>\n",
       "      <td>...</td>\n",
       "      <td>...</td>\n",
       "    </tr>\n",
       "    <tr>\n",
       "      <th>885</th>\n",
       "      <td>0.025150</td>\n",
       "      <td>0.317942</td>\n",
       "      <td>-0.014186</td>\n",
       "    </tr>\n",
       "    <tr>\n",
       "      <th>764</th>\n",
       "      <td>-0.537750</td>\n",
       "      <td>-0.378462</td>\n",
       "      <td>-0.408723</td>\n",
       "    </tr>\n",
       "    <tr>\n",
       "      <th>752</th>\n",
       "      <td>0.025150</td>\n",
       "      <td>0.351104</td>\n",
       "      <td>-0.017300</td>\n",
       "    </tr>\n",
       "    <tr>\n",
       "      <th>1270</th>\n",
       "      <td>-0.913017</td>\n",
       "      <td>0.666144</td>\n",
       "      <td>-0.813433</td>\n",
       "    </tr>\n",
       "    <tr>\n",
       "      <th>542</th>\n",
       "      <td>-0.162484</td>\n",
       "      <td>-0.676921</td>\n",
       "      <td>-0.074077</td>\n",
       "    </tr>\n",
       "  </tbody>\n",
       "</table>\n",
       "<p>133 rows × 3 columns</p>\n",
       "</div>"
      ],
      "text/plain": [
       "      Buraxilish ili    Yurush  prediction\n",
       "1201       -0.350117  0.669419   -0.353810\n",
       "115         0.212783 -0.411624    0.207631\n",
       "979         0.025150 -0.320428    0.045758\n",
       "175        -0.913017  0.444646   -0.792634\n",
       "63         -0.162484  0.715888   -0.204864\n",
       "...              ...       ...         ...\n",
       "885         0.025150  0.317942   -0.014186\n",
       "764        -0.537750 -0.378462   -0.408723\n",
       "752         0.025150  0.351104   -0.017300\n",
       "1270       -0.913017  0.666144   -0.813433\n",
       "542        -0.162484 -0.676921   -0.074077\n",
       "\n",
       "[133 rows x 3 columns]"
      ]
     },
     "execution_count": 12,
     "metadata": {},
     "output_type": "execute_result"
    }
   ],
   "source": [
    "X_test"
   ]
  },
  {
   "cell_type": "code",
   "execution_count": 13,
   "id": "5887119c-b570-4159-9303-4d0e9035360e",
   "metadata": {},
   "outputs": [],
   "source": [
    "y_test = pd.DataFrame(y_test)"
   ]
  },
  {
   "cell_type": "code",
   "execution_count": 15,
   "id": "bdc87381-aad2-4aea-a90b-316d35fda8de",
   "metadata": {},
   "outputs": [],
   "source": [
    "def deNormalizePrice(col):\n",
    "    col = col * df1.Qiymet.std() + df1.Qiymet.mean()\n",
    "    return col "
   ]
  },
  {
   "cell_type": "code",
   "execution_count": 16,
   "id": "d0d2ae78-525d-4429-9d2d-12f65496a54e",
   "metadata": {},
   "outputs": [],
   "source": [
    "y_test['Qiymet'] = y_test['Qiymet'].apply(deNormalizePrice)"
   ]
  },
  {
   "cell_type": "code",
   "execution_count": 17,
   "id": "8d6cf45f-8378-4494-9cde-d6e5fea9e350",
   "metadata": {},
   "outputs": [],
   "source": [
    "X_test['prediction'] = X_test['prediction'].apply(deNormalizePrice)"
   ]
  },
  {
   "cell_type": "code",
   "execution_count": 18,
   "id": "592bc8fc-f2f9-4b28-88e3-001a58fbca1b",
   "metadata": {},
   "outputs": [
    {
     "data": {
      "text/html": [
       "<div>\n",
       "<style scoped>\n",
       "    .dataframe tbody tr th:only-of-type {\n",
       "        vertical-align: middle;\n",
       "    }\n",
       "\n",
       "    .dataframe tbody tr th {\n",
       "        vertical-align: top;\n",
       "    }\n",
       "\n",
       "    .dataframe thead th {\n",
       "        text-align: right;\n",
       "    }\n",
       "</style>\n",
       "<table border=\"1\" class=\"dataframe\">\n",
       "  <thead>\n",
       "    <tr style=\"text-align: right;\">\n",
       "      <th></th>\n",
       "      <th>Qiymet</th>\n",
       "    </tr>\n",
       "  </thead>\n",
       "  <tbody>\n",
       "    <tr>\n",
       "      <th>1201</th>\n",
       "      <td>11500.0</td>\n",
       "    </tr>\n",
       "    <tr>\n",
       "      <th>115</th>\n",
       "      <td>12400.0</td>\n",
       "    </tr>\n",
       "    <tr>\n",
       "      <th>979</th>\n",
       "      <td>10500.0</td>\n",
       "    </tr>\n",
       "    <tr>\n",
       "      <th>175</th>\n",
       "      <td>8000.0</td>\n",
       "    </tr>\n",
       "    <tr>\n",
       "      <th>63</th>\n",
       "      <td>12500.0</td>\n",
       "    </tr>\n",
       "    <tr>\n",
       "      <th>...</th>\n",
       "      <td>...</td>\n",
       "    </tr>\n",
       "    <tr>\n",
       "      <th>885</th>\n",
       "      <td>12400.0</td>\n",
       "    </tr>\n",
       "    <tr>\n",
       "      <th>764</th>\n",
       "      <td>7900.0</td>\n",
       "    </tr>\n",
       "    <tr>\n",
       "      <th>752</th>\n",
       "      <td>13600.0</td>\n",
       "    </tr>\n",
       "    <tr>\n",
       "      <th>1270</th>\n",
       "      <td>8700.0</td>\n",
       "    </tr>\n",
       "    <tr>\n",
       "      <th>542</th>\n",
       "      <td>12600.0</td>\n",
       "    </tr>\n",
       "  </tbody>\n",
       "</table>\n",
       "<p>133 rows × 1 columns</p>\n",
       "</div>"
      ],
      "text/plain": [
       "       Qiymet\n",
       "1201  11500.0\n",
       "115   12400.0\n",
       "979   10500.0\n",
       "175    8000.0\n",
       "63    12500.0\n",
       "...       ...\n",
       "885   12400.0\n",
       "764    7900.0\n",
       "752   13600.0\n",
       "1270   8700.0\n",
       "542   12600.0\n",
       "\n",
       "[133 rows x 1 columns]"
      ]
     },
     "execution_count": 18,
     "metadata": {},
     "output_type": "execute_result"
    }
   ],
   "source": [
    "y_test"
   ]
  },
  {
   "cell_type": "code",
   "execution_count": 19,
   "id": "ecbb9beb-9a8a-41dc-ba88-81ee487ac941",
   "metadata": {},
   "outputs": [
    {
     "data": {
      "text/html": [
       "<div>\n",
       "<style scoped>\n",
       "    .dataframe tbody tr th:only-of-type {\n",
       "        vertical-align: middle;\n",
       "    }\n",
       "\n",
       "    .dataframe tbody tr th {\n",
       "        vertical-align: top;\n",
       "    }\n",
       "\n",
       "    .dataframe thead th {\n",
       "        text-align: right;\n",
       "    }\n",
       "</style>\n",
       "<table border=\"1\" class=\"dataframe\">\n",
       "  <thead>\n",
       "    <tr style=\"text-align: right;\">\n",
       "      <th></th>\n",
       "      <th>Buraxilish ili</th>\n",
       "      <th>Yurush</th>\n",
       "      <th>prediction</th>\n",
       "    </tr>\n",
       "  </thead>\n",
       "  <tbody>\n",
       "    <tr>\n",
       "      <th>1201</th>\n",
       "      <td>-0.350117</td>\n",
       "      <td>0.669419</td>\n",
       "      <td>10286.799031</td>\n",
       "    </tr>\n",
       "    <tr>\n",
       "      <th>115</th>\n",
       "      <td>0.212783</td>\n",
       "      <td>-0.411624</td>\n",
       "      <td>17950.708447</td>\n",
       "    </tr>\n",
       "    <tr>\n",
       "      <th>979</th>\n",
       "      <td>0.025150</td>\n",
       "      <td>-0.320428</td>\n",
       "      <td>15741.068754</td>\n",
       "    </tr>\n",
       "    <tr>\n",
       "      <th>175</th>\n",
       "      <td>-0.913017</td>\n",
       "      <td>0.444646</td>\n",
       "      <td>4296.673928</td>\n",
       "    </tr>\n",
       "    <tr>\n",
       "      <th>63</th>\n",
       "      <td>-0.162484</td>\n",
       "      <td>0.715888</td>\n",
       "      <td>12319.981878</td>\n",
       "    </tr>\n",
       "    <tr>\n",
       "      <th>...</th>\n",
       "      <td>...</td>\n",
       "      <td>...</td>\n",
       "      <td>...</td>\n",
       "    </tr>\n",
       "    <tr>\n",
       "      <th>885</th>\n",
       "      <td>0.025150</td>\n",
       "      <td>0.317942</td>\n",
       "      <td>14922.810569</td>\n",
       "    </tr>\n",
       "    <tr>\n",
       "      <th>764</th>\n",
       "      <td>-0.537750</td>\n",
       "      <td>-0.378462</td>\n",
       "      <td>9537.218864</td>\n",
       "    </tr>\n",
       "    <tr>\n",
       "      <th>752</th>\n",
       "      <td>0.025150</td>\n",
       "      <td>0.351104</td>\n",
       "      <td>14880.303650</td>\n",
       "    </tr>\n",
       "    <tr>\n",
       "      <th>1270</th>\n",
       "      <td>-0.913017</td>\n",
       "      <td>0.666144</td>\n",
       "      <td>4012.759591</td>\n",
       "    </tr>\n",
       "    <tr>\n",
       "      <th>542</th>\n",
       "      <td>-0.162484</td>\n",
       "      <td>-0.676921</td>\n",
       "      <td>14105.272465</td>\n",
       "    </tr>\n",
       "  </tbody>\n",
       "</table>\n",
       "<p>133 rows × 3 columns</p>\n",
       "</div>"
      ],
      "text/plain": [
       "      Buraxilish ili    Yurush    prediction\n",
       "1201       -0.350117  0.669419  10286.799031\n",
       "115         0.212783 -0.411624  17950.708447\n",
       "979         0.025150 -0.320428  15741.068754\n",
       "175        -0.913017  0.444646   4296.673928\n",
       "63         -0.162484  0.715888  12319.981878\n",
       "...              ...       ...           ...\n",
       "885         0.025150  0.317942  14922.810569\n",
       "764        -0.537750 -0.378462   9537.218864\n",
       "752         0.025150  0.351104  14880.303650\n",
       "1270       -0.913017  0.666144   4012.759591\n",
       "542        -0.162484 -0.676921  14105.272465\n",
       "\n",
       "[133 rows x 3 columns]"
      ]
     },
     "execution_count": 19,
     "metadata": {},
     "output_type": "execute_result"
    }
   ],
   "source": [
    "X_test"
   ]
  },
  {
   "cell_type": "code",
   "execution_count": null,
   "id": "1fa52c2d-07bc-4a3c-b084-21881cae8b1a",
   "metadata": {},
   "outputs": [],
   "source": []
  },
  {
   "cell_type": "code",
   "execution_count": 23,
   "id": "ec6b4c6f-c062-475f-a626-a26de283228b",
   "metadata": {},
   "outputs": [
    {
     "data": {
      "text/html": [
       "<div>\n",
       "<style scoped>\n",
       "    .dataframe tbody tr th:only-of-type {\n",
       "        vertical-align: middle;\n",
       "    }\n",
       "\n",
       "    .dataframe tbody tr th {\n",
       "        vertical-align: top;\n",
       "    }\n",
       "\n",
       "    .dataframe thead th {\n",
       "        text-align: right;\n",
       "    }\n",
       "</style>\n",
       "<table border=\"1\" class=\"dataframe\">\n",
       "  <thead>\n",
       "    <tr style=\"text-align: right;\">\n",
       "      <th></th>\n",
       "      <th>Buraxilish ili</th>\n",
       "      <th>Yurush</th>\n",
       "      <th>Qiymet</th>\n",
       "    </tr>\n",
       "  </thead>\n",
       "  <tbody>\n",
       "    <tr>\n",
       "      <th>0</th>\n",
       "      <td>-0.162484</td>\n",
       "      <td>0.715888</td>\n",
       "      <td>-0.191676</td>\n",
       "    </tr>\n",
       "    <tr>\n",
       "      <th>1</th>\n",
       "      <td>2.652017</td>\n",
       "      <td>-1.472811</td>\n",
       "      <td>2.815558</td>\n",
       "    </tr>\n",
       "    <tr>\n",
       "      <th>2</th>\n",
       "      <td>0.400416</td>\n",
       "      <td>1.575615</td>\n",
       "      <td>-0.250282</td>\n",
       "    </tr>\n",
       "    <tr>\n",
       "      <th>3</th>\n",
       "      <td>-0.350117</td>\n",
       "      <td>2.296725</td>\n",
       "      <td>-0.396798</td>\n",
       "    </tr>\n",
       "    <tr>\n",
       "      <th>4</th>\n",
       "      <td>0.025150</td>\n",
       "      <td>0.168713</td>\n",
       "      <td>-0.177024</td>\n",
       "    </tr>\n",
       "    <tr>\n",
       "      <th>...</th>\n",
       "      <td>...</td>\n",
       "      <td>...</td>\n",
       "      <td>...</td>\n",
       "    </tr>\n",
       "    <tr>\n",
       "      <th>1323</th>\n",
       "      <td>-0.725384</td>\n",
       "      <td>0.375976</td>\n",
       "      <td>-0.462730</td>\n",
       "    </tr>\n",
       "    <tr>\n",
       "      <th>1324</th>\n",
       "      <td>-1.100651</td>\n",
       "      <td>0.002902</td>\n",
       "      <td>-0.645874</td>\n",
       "    </tr>\n",
       "    <tr>\n",
       "      <th>1325</th>\n",
       "      <td>-0.350117</td>\n",
       "      <td>-0.063422</td>\n",
       "      <td>-0.308888</td>\n",
       "    </tr>\n",
       "    <tr>\n",
       "      <th>1326</th>\n",
       "      <td>0.025150</td>\n",
       "      <td>-0.602306</td>\n",
       "      <td>-0.279585</td>\n",
       "    </tr>\n",
       "    <tr>\n",
       "      <th>1327</th>\n",
       "      <td>-0.725384</td>\n",
       "      <td>-0.198557</td>\n",
       "      <td>-0.338191</td>\n",
       "    </tr>\n",
       "  </tbody>\n",
       "</table>\n",
       "<p>1328 rows × 3 columns</p>\n",
       "</div>"
      ],
      "text/plain": [
       "      Buraxilish ili    Yurush    Qiymet\n",
       "0          -0.162484  0.715888 -0.191676\n",
       "1           2.652017 -1.472811  2.815558\n",
       "2           0.400416  1.575615 -0.250282\n",
       "3          -0.350117  2.296725 -0.396798\n",
       "4           0.025150  0.168713 -0.177024\n",
       "...              ...       ...       ...\n",
       "1323       -0.725384  0.375976 -0.462730\n",
       "1324       -1.100651  0.002902 -0.645874\n",
       "1325       -0.350117 -0.063422 -0.308888\n",
       "1326        0.025150 -0.602306 -0.279585\n",
       "1327       -0.725384 -0.198557 -0.338191\n",
       "\n",
       "[1328 rows x 3 columns]"
      ]
     },
     "execution_count": 23,
     "metadata": {},
     "output_type": "execute_result"
    }
   ],
   "source": [
    "df"
   ]
  },
  {
   "cell_type": "code",
   "execution_count": 31,
   "id": "a37c2ff0-ca97-4679-81df-3ce1c3aae335",
   "metadata": {},
   "outputs": [
    {
     "data": {
      "text/plain": [
       "array([-3.52159257e-01,  2.06560775e-01,  4.41822406e-02, -7.95113094e-01,\n",
       "       -2.01985245e-01, -5.45062652e-01, -8.00210603e-03, -1.38776036e-01,\n",
       "       -3.58102350e-01, -4.25313584e-01,  1.44812624e-02,  2.99860047e+00,\n",
       "       -9.67573497e-01,  2.50558494e+00, -1.41715999e-01, -1.41770431e-01,\n",
       "       -9.61465700e-02,  1.99948657e+00, -3.31289193e-01, -2.49705215e-01,\n",
       "        1.38211060e+00,  8.17783530e-04, -6.90223335e-01, -9.39415977e-02,\n",
       "       -4.32272327e-02,  1.84677117e-01, -8.39739530e-01, -1.90225392e-01,\n",
       "       -1.05701450e-01, -5.25217901e-01, -7.70650395e-01, -2.24715528e-01,\n",
       "       -3.07769488e-01,  1.00585203e+00, -7.28946240e-01, -1.47867137e-01,\n",
       "       -2.48970224e-01, -3.15119396e-01, -6.16356759e-01, -1.82140493e-01,\n",
       "        4.49172313e-02, -3.48928973e-01, -9.41848819e-01, -3.98853915e-01,\n",
       "       -7.15634949e-01, -7.62932992e-01, -4.10619648e-01, -4.00789881e-01,\n",
       "       -5.35561468e-01, -2.01985245e-01, -4.76907733e-01, -2.31477443e-01,\n",
       "       -2.92112714e-01, -2.50685693e-01,  4.33564068e-01, -3.14384405e-01,\n",
       "        3.75673234e-02,  1.00585203e+00, -3.08504479e-01, -3.48218779e-02,\n",
       "       -2.46985749e-01, -7.99767725e-02,  2.65548627e+00,  9.63329138e-01,\n",
       "        2.30645686e+00, -1.36712182e-01,  4.48998875e-01, -7.99767725e-02,\n",
       "       -6.67806115e-01,  2.30645686e+00, -3.59953835e-01,  6.84369369e-02,\n",
       "        1.10276981e-01, -4.25313584e-01, -1.16726312e-01, -4.96426926e-01,\n",
       "       -2.67344994e-01, -9.76165516e-02, -8.96211813e-01,  5.49836653e-02,\n",
       "       -3.83473540e-01, -3.56406727e-01,  1.84677117e-01,  1.35321099e-01,\n",
       "       -8.88194491e-01, -8.39739530e-01, -7.99767725e-02,  2.51903527e+00,\n",
       "       -1.16726312e-01, -1.77308664e-01,  1.35104970e-01, -2.97479617e-01,\n",
       "       -4.14288722e-01, -3.83547039e-01, -9.01424325e-01, -7.15580517e-01,\n",
       "       -9.70513460e-01, -9.17594123e-01, -4.78559992e-01, -1.43185981e-01,\n",
       "        2.30645686e+00, -5.55940516e-01, -4.95927132e-01, -9.69002362e-01,\n",
       "       -1.86594726e-02,  1.55175995e-02, -6.22656993e-02, -4.53978225e-01,\n",
       "       -2.01985245e-01, -2.62069188e-01, -9.15896271e-02, -2.01985245e-01,\n",
       "        3.11664459e-01, -4.40013400e-01, -4.96426926e-01, -8.24304723e-01,\n",
       "        2.33769397e+00,  8.17783530e-04, -2.12275116e-01,  1.28857351e+00,\n",
       "        2.33769397e+00,  6.40042050e-01,  2.19626267e+00, -1.23395661e-01,\n",
       "       -9.75313685e-01,  1.84677117e-01, -1.37306055e-01,  2.30645686e+00,\n",
       "       -1.24120508e-02, -4.13553731e-01, -1.53520140e-02, -8.14749843e-01,\n",
       "       -7.85067909e-02])"
      ]
     },
     "execution_count": 31,
     "metadata": {},
     "output_type": "execute_result"
    }
   ],
   "source": [
    "from sklearn.linear_model import LinearRegression\n",
    "\n",
    "model = LinearRegression()\n",
    "model.fit(X_train, y_train)\n",
    "model.predict(X_test.drop('prediction', axis = 1))"
   ]
  },
  {
   "cell_type": "code",
   "execution_count": 40,
   "id": "b2fce8f4-a78e-4bfd-af47-6e717417d3c4",
   "metadata": {},
   "outputs": [
    {
     "data": {
      "text/html": [
       "<div>\n",
       "<style scoped>\n",
       "    .dataframe tbody tr th:only-of-type {\n",
       "        vertical-align: middle;\n",
       "    }\n",
       "\n",
       "    .dataframe tbody tr th {\n",
       "        vertical-align: top;\n",
       "    }\n",
       "\n",
       "    .dataframe thead th {\n",
       "        text-align: right;\n",
       "    }\n",
       "</style>\n",
       "<table border=\"1\" class=\"dataframe\">\n",
       "  <thead>\n",
       "    <tr style=\"text-align: right;\">\n",
       "      <th></th>\n",
       "      <th>Buraxilish ili</th>\n",
       "      <th>Yurush</th>\n",
       "      <th>prediction</th>\n",
       "    </tr>\n",
       "  </thead>\n",
       "  <tbody>\n",
       "    <tr>\n",
       "      <th>1201</th>\n",
       "      <td>-0.350117</td>\n",
       "      <td>0.669419</td>\n",
       "      <td>10286.799031</td>\n",
       "    </tr>\n",
       "    <tr>\n",
       "      <th>115</th>\n",
       "      <td>0.212783</td>\n",
       "      <td>-0.411624</td>\n",
       "      <td>17950.708447</td>\n",
       "    </tr>\n",
       "    <tr>\n",
       "      <th>979</th>\n",
       "      <td>0.025150</td>\n",
       "      <td>-0.320428</td>\n",
       "      <td>15741.068754</td>\n",
       "    </tr>\n",
       "    <tr>\n",
       "      <th>175</th>\n",
       "      <td>-0.913017</td>\n",
       "      <td>0.444646</td>\n",
       "      <td>4296.673928</td>\n",
       "    </tr>\n",
       "    <tr>\n",
       "      <th>63</th>\n",
       "      <td>-0.162484</td>\n",
       "      <td>0.715888</td>\n",
       "      <td>12319.981878</td>\n",
       "    </tr>\n",
       "    <tr>\n",
       "      <th>...</th>\n",
       "      <td>...</td>\n",
       "      <td>...</td>\n",
       "      <td>...</td>\n",
       "    </tr>\n",
       "    <tr>\n",
       "      <th>885</th>\n",
       "      <td>0.025150</td>\n",
       "      <td>0.317942</td>\n",
       "      <td>14922.810569</td>\n",
       "    </tr>\n",
       "    <tr>\n",
       "      <th>764</th>\n",
       "      <td>-0.537750</td>\n",
       "      <td>-0.378462</td>\n",
       "      <td>9537.218864</td>\n",
       "    </tr>\n",
       "    <tr>\n",
       "      <th>752</th>\n",
       "      <td>0.025150</td>\n",
       "      <td>0.351104</td>\n",
       "      <td>14880.303650</td>\n",
       "    </tr>\n",
       "    <tr>\n",
       "      <th>1270</th>\n",
       "      <td>-0.913017</td>\n",
       "      <td>0.666144</td>\n",
       "      <td>4012.759591</td>\n",
       "    </tr>\n",
       "    <tr>\n",
       "      <th>542</th>\n",
       "      <td>-0.162484</td>\n",
       "      <td>-0.676921</td>\n",
       "      <td>14105.272465</td>\n",
       "    </tr>\n",
       "  </tbody>\n",
       "</table>\n",
       "<p>133 rows × 3 columns</p>\n",
       "</div>"
      ],
      "text/plain": [
       "      Buraxilish ili    Yurush    prediction\n",
       "1201       -0.350117  0.669419  10286.799031\n",
       "115         0.212783 -0.411624  17950.708447\n",
       "979         0.025150 -0.320428  15741.068754\n",
       "175        -0.913017  0.444646   4296.673928\n",
       "63         -0.162484  0.715888  12319.981878\n",
       "...              ...       ...           ...\n",
       "885         0.025150  0.317942  14922.810569\n",
       "764        -0.537750 -0.378462   9537.218864\n",
       "752         0.025150  0.351104  14880.303650\n",
       "1270       -0.913017  0.666144   4012.759591\n",
       "542        -0.162484 -0.676921  14105.272465\n",
       "\n",
       "[133 rows x 3 columns]"
      ]
     },
     "execution_count": 40,
     "metadata": {},
     "output_type": "execute_result"
    }
   ],
   "source": [
    "X_test"
   ]
  },
  {
   "cell_type": "code",
   "execution_count": 42,
   "id": "fce812b5-871b-400d-85dd-eebd0cc53e7d",
   "metadata": {},
   "outputs": [
    {
     "name": "stderr",
     "output_type": "stream",
     "text": [
      "/opt/anaconda3/lib/python3.11/site-packages/sklearn/base.py:493: UserWarning: X does not have valid feature names, but LinearRegression was fitted with feature names\n",
      "  warnings.warn(\n"
     ]
    },
    {
     "data": {
      "text/plain": [
       "array([-0.35215919])"
      ]
     },
     "execution_count": 42,
     "metadata": {},
     "output_type": "execute_result"
    }
   ],
   "source": [
    "model.predict([[-0.350117, 0.669419\t]])"
   ]
  },
  {
   "cell_type": "code",
   "execution_count": 41,
   "id": "c4557415-d753-43b2-8d50-b8db88b79477",
   "metadata": {},
   "outputs": [
    {
     "data": {
      "text/plain": [
       "Sheher                                                           Bakı\n",
       "Marka                                                        Mercedes\n",
       "Model                                                           C 180\n",
       "Buraxilish ili                                                   1998\n",
       "Ban novu                                                    Universal\n",
       "Reng                                                            Yaşıl\n",
       "Muherrikin hecmi                                                1.8 L\n",
       "Muherrikin gucu                                              122 a.g.\n",
       "Yanacaq novu                                                   Benzin\n",
       "Yurush                                                         360395\n",
       "Suretler qutusu                                              Mexaniki\n",
       "Oturucu                                                          Arxa\n",
       "Yeni                                                             Xeyr\n",
       "Qiymet                                                        11500.0\n",
       "Extra Info          Yüngül lehimli disklər,ABS,Yağış sensoru,Kondi...\n",
       "Seller comment      Masn saz vezyetdedi.hecbir xerc teleb etmir. M...\n",
       "Name: 1201, dtype: object"
      ]
     },
     "execution_count": 41,
     "metadata": {},
     "output_type": "execute_result"
    }
   ],
   "source": [
    "df1.loc[1201]"
   ]
  },
  {
   "cell_type": "code",
   "execution_count": 43,
   "id": "428b2e47-9fe1-4de3-8825-1f02b816a13d",
   "metadata": {},
   "outputs": [
    {
     "data": {
      "text/plain": [
       "10309.33402899674"
      ]
     },
     "execution_count": 43,
     "metadata": {},
     "output_type": "execute_result"
    }
   ],
   "source": [
    "-0.35215919 * df1.Qiymet.std()+ df1.Qiymet.mean()"
   ]
  },
  {
   "cell_type": "code",
   "execution_count": 44,
   "id": "40608491-d37b-443b-b0ab-adc42d4bc14e",
   "metadata": {},
   "outputs": [
    {
     "data": {
      "text/html": [
       "<div>\n",
       "<style scoped>\n",
       "    .dataframe tbody tr th:only-of-type {\n",
       "        vertical-align: middle;\n",
       "    }\n",
       "\n",
       "    .dataframe tbody tr th {\n",
       "        vertical-align: top;\n",
       "    }\n",
       "\n",
       "    .dataframe thead th {\n",
       "        text-align: right;\n",
       "    }\n",
       "</style>\n",
       "<table border=\"1\" class=\"dataframe\">\n",
       "  <thead>\n",
       "    <tr style=\"text-align: right;\">\n",
       "      <th></th>\n",
       "      <th>Buraxilish ili</th>\n",
       "      <th>Yurush</th>\n",
       "      <th>prediction</th>\n",
       "    </tr>\n",
       "  </thead>\n",
       "  <tbody>\n",
       "    <tr>\n",
       "      <th>1201</th>\n",
       "      <td>-0.350117</td>\n",
       "      <td>0.669419</td>\n",
       "      <td>10286.799031</td>\n",
       "    </tr>\n",
       "    <tr>\n",
       "      <th>115</th>\n",
       "      <td>0.212783</td>\n",
       "      <td>-0.411624</td>\n",
       "      <td>17950.708447</td>\n",
       "    </tr>\n",
       "    <tr>\n",
       "      <th>979</th>\n",
       "      <td>0.025150</td>\n",
       "      <td>-0.320428</td>\n",
       "      <td>15741.068754</td>\n",
       "    </tr>\n",
       "    <tr>\n",
       "      <th>175</th>\n",
       "      <td>-0.913017</td>\n",
       "      <td>0.444646</td>\n",
       "      <td>4296.673928</td>\n",
       "    </tr>\n",
       "    <tr>\n",
       "      <th>63</th>\n",
       "      <td>-0.162484</td>\n",
       "      <td>0.715888</td>\n",
       "      <td>12319.981878</td>\n",
       "    </tr>\n",
       "    <tr>\n",
       "      <th>...</th>\n",
       "      <td>...</td>\n",
       "      <td>...</td>\n",
       "      <td>...</td>\n",
       "    </tr>\n",
       "    <tr>\n",
       "      <th>885</th>\n",
       "      <td>0.025150</td>\n",
       "      <td>0.317942</td>\n",
       "      <td>14922.810569</td>\n",
       "    </tr>\n",
       "    <tr>\n",
       "      <th>764</th>\n",
       "      <td>-0.537750</td>\n",
       "      <td>-0.378462</td>\n",
       "      <td>9537.218864</td>\n",
       "    </tr>\n",
       "    <tr>\n",
       "      <th>752</th>\n",
       "      <td>0.025150</td>\n",
       "      <td>0.351104</td>\n",
       "      <td>14880.303650</td>\n",
       "    </tr>\n",
       "    <tr>\n",
       "      <th>1270</th>\n",
       "      <td>-0.913017</td>\n",
       "      <td>0.666144</td>\n",
       "      <td>4012.759591</td>\n",
       "    </tr>\n",
       "    <tr>\n",
       "      <th>542</th>\n",
       "      <td>-0.162484</td>\n",
       "      <td>-0.676921</td>\n",
       "      <td>14105.272465</td>\n",
       "    </tr>\n",
       "  </tbody>\n",
       "</table>\n",
       "<p>133 rows × 3 columns</p>\n",
       "</div>"
      ],
      "text/plain": [
       "      Buraxilish ili    Yurush    prediction\n",
       "1201       -0.350117  0.669419  10286.799031\n",
       "115         0.212783 -0.411624  17950.708447\n",
       "979         0.025150 -0.320428  15741.068754\n",
       "175        -0.913017  0.444646   4296.673928\n",
       "63         -0.162484  0.715888  12319.981878\n",
       "...              ...       ...           ...\n",
       "885         0.025150  0.317942  14922.810569\n",
       "764        -0.537750 -0.378462   9537.218864\n",
       "752         0.025150  0.351104  14880.303650\n",
       "1270       -0.913017  0.666144   4012.759591\n",
       "542        -0.162484 -0.676921  14105.272465\n",
       "\n",
       "[133 rows x 3 columns]"
      ]
     },
     "execution_count": 44,
     "metadata": {},
     "output_type": "execute_result"
    }
   ],
   "source": [
    "X_test"
   ]
  },
  {
   "cell_type": "code",
   "execution_count": null,
   "id": "df346c10-7524-4e02-b743-d12902e9b497",
   "metadata": {},
   "outputs": [],
   "source": []
  }
 ],
 "metadata": {
  "kernelspec": {
   "display_name": "Python 3 (ipykernel)",
   "language": "python",
   "name": "python3"
  },
  "language_info": {
   "codemirror_mode": {
    "name": "ipython",
    "version": 3
   },
   "file_extension": ".py",
   "mimetype": "text/x-python",
   "name": "python",
   "nbconvert_exporter": "python",
   "pygments_lexer": "ipython3",
   "version": "3.11.7"
  }
 },
 "nbformat": 4,
 "nbformat_minor": 5
}
