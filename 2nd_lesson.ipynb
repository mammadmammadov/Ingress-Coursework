{
 "cells": [
  {
   "cell_type": "code",
   "execution_count": 5,
   "id": "e10470ba",
   "metadata": {
    "scrolled": true
   },
   "outputs": [
    {
     "name": "stdout",
     "output_type": "stream",
     "text": [
      "Ahmad\n"
     ]
    }
   ],
   "source": [
    "test = [2, 3, 5, 6, 7, [2, 3], 'Ahmad']\n",
    "print(test[len(test)-1])"
   ]
  },
  {
   "cell_type": "code",
   "execution_count": 7,
   "id": "4bedcdac",
   "metadata": {
    "scrolled": true
   },
   "outputs": [
    {
     "data": {
      "text/plain": [
       "[3, 5, 6, 7, [2, 3]]"
      ]
     },
     "execution_count": 7,
     "metadata": {},
     "output_type": "execute_result"
    }
   ],
   "source": [
    "test[1:6]"
   ]
  },
  {
   "cell_type": "code",
   "execution_count": 8,
   "id": "fccaa56b",
   "metadata": {},
   "outputs": [
    {
     "data": {
      "text/plain": [
       "'Ahmad'"
      ]
     },
     "execution_count": 8,
     "metadata": {},
     "output_type": "execute_result"
    }
   ],
   "source": [
    "test[-1]"
   ]
  },
  {
   "cell_type": "code",
   "execution_count": 10,
   "id": "22e1b90b",
   "metadata": {},
   "outputs": [
    {
     "data": {
      "text/plain": [
       "6"
      ]
     },
     "execution_count": 10,
     "metadata": {},
     "output_type": "execute_result"
    }
   ],
   "source": [
    "test[-4]"
   ]
  },
  {
   "cell_type": "code",
   "execution_count": 13,
   "id": "633ea239",
   "metadata": {},
   "outputs": [],
   "source": [
    "test.append(12)"
   ]
  },
  {
   "cell_type": "code",
   "execution_count": 14,
   "id": "5701f164",
   "metadata": {
    "scrolled": true
   },
   "outputs": [
    {
     "data": {
      "text/plain": [
       "[2, 3, 5, 6, 7, [2, 3], 'Ahmad', 12, 12, 12]"
      ]
     },
     "execution_count": 14,
     "metadata": {},
     "output_type": "execute_result"
    }
   ],
   "source": [
    "test"
   ]
  },
  {
   "cell_type": "code",
   "execution_count": 16,
   "id": "33ae9f51",
   "metadata": {},
   "outputs": [],
   "source": [
    "test.insert(5, 12345)"
   ]
  },
  {
   "cell_type": "code",
   "execution_count": 17,
   "id": "bc1fac67",
   "metadata": {},
   "outputs": [
    {
     "data": {
      "text/plain": [
       "[2, 3, 5, 6, 7, 12345, 12345, [2, 3], 'Ahmad', 12, 12, 12]"
      ]
     },
     "execution_count": 17,
     "metadata": {},
     "output_type": "execute_result"
    }
   ],
   "source": [
    "test"
   ]
  },
  {
   "cell_type": "code",
   "execution_count": 18,
   "id": "e75a8e98",
   "metadata": {},
   "outputs": [
    {
     "data": {
      "text/plain": [
       "1"
      ]
     },
     "execution_count": 18,
     "metadata": {},
     "output_type": "execute_result"
    }
   ],
   "source": [
    "test.count([2, 3])"
   ]
  },
  {
   "cell_type": "code",
   "execution_count": 29,
   "id": "0e8df6c2",
   "metadata": {},
   "outputs": [],
   "source": [
    "test.append(12)"
   ]
  },
  {
   "cell_type": "code",
   "execution_count": 30,
   "id": "57440594",
   "metadata": {},
   "outputs": [
    {
     "data": {
      "text/plain": [
       "[2, 3, 5, 6, 7, 12345, 12345, [2, 3], 'Ahmad', 12, 12, 12, 12]"
      ]
     },
     "execution_count": 30,
     "metadata": {},
     "output_type": "execute_result"
    }
   ],
   "source": [
    "test"
   ]
  },
  {
   "cell_type": "code",
   "execution_count": 31,
   "id": "d09941c9",
   "metadata": {},
   "outputs": [],
   "source": [
    "while 12 in test:\n",
    "    test.remove(12)"
   ]
  },
  {
   "cell_type": "code",
   "execution_count": 32,
   "id": "9b647ce4",
   "metadata": {},
   "outputs": [
    {
     "data": {
      "text/plain": [
       "[2, 3, 5, 6, 7, 12345, 12345, [2, 3], 'Ahmad']"
      ]
     },
     "execution_count": 32,
     "metadata": {},
     "output_type": "execute_result"
    }
   ],
   "source": [
    "test"
   ]
  },
  {
   "cell_type": "code",
   "execution_count": 44,
   "id": "51273580",
   "metadata": {},
   "outputs": [
    {
     "name": "stdout",
     "output_type": "stream",
     "text": [
      "[2, 3, 4, 33]\n",
      "[2, 3, 4]\n"
     ]
    }
   ],
   "source": [
    "lst1 = [2,3, 4]\n",
    "lst2 = list(lst1)\n",
    "lst1.append(33)\n",
    "print(lst1)\n",
    "print(lst2)"
   ]
  },
  {
   "cell_type": "code",
   "execution_count": 47,
   "id": "f3d82a32",
   "metadata": {},
   "outputs": [],
   "source": [
    "dictions = {\"Name\" : \"Ahmad\", \"age\": 25, \"Major\": \"CS\"}"
   ]
  },
  {
   "cell_type": "code",
   "execution_count": 49,
   "id": "022647ac",
   "metadata": {
    "scrolled": false
   },
   "outputs": [
    {
     "name": "stdout",
     "output_type": "stream",
     "text": [
      "25\n"
     ]
    }
   ],
   "source": [
    "print(dictions[\"age\"])"
   ]
  },
  {
   "cell_type": "code",
   "execution_count": 51,
   "id": "7f1baa2b",
   "metadata": {
    "scrolled": true
   },
   "outputs": [
    {
     "name": "stdout",
     "output_type": "stream",
     "text": [
      "Name Ahmad\n",
      "age 25\n",
      "Major CS\n"
     ]
    }
   ],
   "source": [
    "for i in dictions:\n",
    "    print(i, dictions[i])"
   ]
  },
  {
   "cell_type": "code",
   "execution_count": 52,
   "id": "8d55338b",
   "metadata": {
    "scrolled": true
   },
   "outputs": [
    {
     "data": {
      "text/plain": [
       "dict_values(['Ahmad', 25, 'CS'])"
      ]
     },
     "execution_count": 52,
     "metadata": {},
     "output_type": "execute_result"
    }
   ],
   "source": [
    "dictions.values()"
   ]
  },
  {
   "cell_type": "code",
   "execution_count": 53,
   "id": "995e5f8e",
   "metadata": {},
   "outputs": [
    {
     "data": {
      "text/plain": [
       "dict_keys(['Name', 'age', 'Major'])"
      ]
     },
     "execution_count": 53,
     "metadata": {},
     "output_type": "execute_result"
    }
   ],
   "source": [
    "dictions.keys()"
   ]
  },
  {
   "cell_type": "code",
   "execution_count": 54,
   "id": "3446fb08",
   "metadata": {},
   "outputs": [],
   "source": [
    "dictions['Status'] = 'Student'"
   ]
  },
  {
   "cell_type": "code",
   "execution_count": 55,
   "id": "04c7eb49",
   "metadata": {},
   "outputs": [
    {
     "data": {
      "text/plain": [
       "{'Name': 'Ahmad', 'age': 25, 'Major': 'CS', 'Status': 'Student'}"
      ]
     },
     "execution_count": 55,
     "metadata": {},
     "output_type": "execute_result"
    }
   ],
   "source": [
    "dictions"
   ]
  },
  {
   "cell_type": "code",
   "execution_count": 56,
   "id": "ed8b2386",
   "metadata": {},
   "outputs": [],
   "source": [
    "del dictions['Name']"
   ]
  },
  {
   "cell_type": "code",
   "execution_count": 57,
   "id": "958bf0b8",
   "metadata": {},
   "outputs": [
    {
     "data": {
      "text/plain": [
       "{'age': 25, 'Major': 'CS', 'Status': 'Student'}"
      ]
     },
     "execution_count": 57,
     "metadata": {},
     "output_type": "execute_result"
    }
   ],
   "source": [
    "dictions"
   ]
  },
  {
   "cell_type": "code",
   "execution_count": 59,
   "id": "8840e37c",
   "metadata": {},
   "outputs": [
    {
     "name": "stdout",
     "output_type": "stream",
     "text": [
      "8\n"
     ]
    }
   ],
   "source": [
    "temp = [2, 4, 6, 8, 4, 2, 6, -5, 3]\n",
    "\n",
    "max1 = temp[0]\n",
    "\n",
    "for i in temp:\n",
    "    if i > max1:\n",
    "        max1 = i\n",
    "print(max1)"
   ]
  }
 ],
 "metadata": {
  "kernelspec": {
   "display_name": "Python 3 (ipykernel)",
   "language": "python",
   "name": "python3"
  },
  "language_info": {
   "codemirror_mode": {
    "name": "ipython",
    "version": 3
   },
   "file_extension": ".py",
   "mimetype": "text/x-python",
   "name": "python",
   "nbconvert_exporter": "python",
   "pygments_lexer": "ipython3",
   "version": "3.11.7"
  }
 },
 "nbformat": 4,
 "nbformat_minor": 5
}
