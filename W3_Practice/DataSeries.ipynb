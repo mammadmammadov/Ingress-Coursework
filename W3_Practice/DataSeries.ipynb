{
 "cells": [
  {
   "cell_type": "markdown",
   "id": "9a255afd",
   "metadata": {},
   "source": [
    "# 1\n",
    "\n",
    "Write a Pandas program to create and display a one-dimensional array-like object containing an array of data."
   ]
  },
  {
   "cell_type": "code",
   "execution_count": 1,
   "id": "d81f3b38",
   "metadata": {},
   "outputs": [
    {
     "name": "stdout",
     "output_type": "stream",
     "text": [
      "0    1\n",
      "1    2\n",
      "2    3\n",
      "3    4\n",
      "4    5\n",
      "dtype: int64\n"
     ]
    }
   ],
   "source": [
    "import pandas as pd\n",
    "ds = pd.Series([1, 2, 3, 4, 5])\n",
    "print(ds)"
   ]
  },
  {
   "cell_type": "markdown",
   "id": "adc968af",
   "metadata": {},
   "source": [
    "# 2\n",
    "Write a Pandas program to convert a Panda module Series to Python list and it's type."
   ]
  },
  {
   "cell_type": "code",
   "execution_count": 9,
   "id": "2dd4ab12",
   "metadata": {},
   "outputs": [
    {
     "name": "stdout",
     "output_type": "stream",
     "text": [
      "0    1\n",
      "1    2\n",
      "2    3\n",
      "3    4\n",
      "4    5\n",
      "dtype: int64\n",
      "\n",
      "<class 'pandas.core.series.Series'>\n",
      "\n",
      "[1, 2, 3, 4, 5]\n",
      "\n",
      "<class 'list'>\n",
      "\n"
     ]
    }
   ],
   "source": [
    "import pandas as pd\n",
    "ds = pd.Series([1, 2, 3, 4, 5])\n",
    "print(ds, end='\\n\\n')\n",
    "print(type(ds), end='\\n\\n')\n",
    "print(ds.tolist(), end='\\n\\n')\n",
    "print(type(ds.tolist()), end='\\n\\n')"
   ]
  },
  {
   "cell_type": "markdown",
   "id": "5a2820c7",
   "metadata": {},
   "source": [
    "# 3\n",
    "Write a Pandas program to add, subtract, multiple and divide two Pandas Series."
   ]
  },
  {
   "cell_type": "code",
   "execution_count": 14,
   "id": "e0168ef6",
   "metadata": {},
   "outputs": [
    {
     "name": "stdout",
     "output_type": "stream",
     "text": [
      "Adding two series \n",
      "\n",
      "0     7\n",
      "1     9\n",
      "2     6\n",
      "3     8\n",
      "4    10\n",
      "dtype: int64\n",
      "\n",
      "Subtracting two series \n",
      "\n",
      "0   -5\n",
      "1   -5\n",
      "2    0\n",
      "3    0\n",
      "4    0\n",
      "dtype: int64\n",
      "\n",
      "Multiplying two series \n",
      "\n",
      "0     6\n",
      "1    14\n",
      "2     9\n",
      "3    16\n",
      "4    25\n",
      "dtype: int64\n",
      "\n",
      "Dividing two series \n",
      "\n",
      "0    0.166667\n",
      "1    0.285714\n",
      "2    1.000000\n",
      "3    1.000000\n",
      "4    1.000000\n",
      "dtype: float64\n",
      "\n"
     ]
    }
   ],
   "source": [
    "import pandas as pd\n",
    "ds1 = pd.Series([1, 2, 3, 4, 5])\n",
    "ds2 = pd.Series([6, 7, 3, 4, 5])\n",
    "sum_ds = ds1 + ds2\n",
    "sub_ds = ds1 - ds2\n",
    "mul_ds = ds1 * ds2\n",
    "div_ds = ds1/ds2\n",
    "print(\"Adding two series \\n\")\n",
    "print(sum_ds, end='\\n\\n')\n",
    "print(\"Subtracting two series \\n\")\n",
    "print(sub_ds, end='\\n\\n')\n",
    "print(\"Multiplying two series \\n\")\n",
    "print(mul_ds, end='\\n\\n')\n",
    "print(\"Dividing two series \\n\")\n",
    "print(div_ds, end='\\n\\n')"
   ]
  },
  {
   "cell_type": "markdown",
   "id": "1eebffd2",
   "metadata": {},
   "source": [
    "# 4\n",
    " Write a Pandas program to compare the elements of the two Pandas Series.\n",
    "Sample Series: [2, 4, 6, 8, 10], [1, 3, 5, 7, 10]"
   ]
  },
  {
   "cell_type": "code",
   "execution_count": 15,
   "id": "2ab32b00",
   "metadata": {},
   "outputs": [
    {
     "name": "stdout",
     "output_type": "stream",
     "text": [
      "0     True\n",
      "1     True\n",
      "2     True\n",
      "3     True\n",
      "4    False\n",
      "dtype: bool\n",
      "\n",
      "0    False\n",
      "1    False\n",
      "2    False\n",
      "3    False\n",
      "4    False\n",
      "dtype: bool\n",
      "\n",
      "0    False\n",
      "1    False\n",
      "2    False\n",
      "3    False\n",
      "4     True\n",
      "dtype: bool\n",
      "\n"
     ]
    }
   ],
   "source": [
    "import pandas as pd\n",
    "ds1 = pd.Series([2, 4, 6, 8, 10])\n",
    "ds2 = pd.Series([1, 3, 5, 7, 10])\n",
    "print(ds1 > ds2, end = '\\n\\n')\n",
    "print(ds1 < ds2, end = '\\n\\n')\n",
    "print(ds1 == ds2, end = '\\n\\n')\n"
   ]
  },
  {
   "cell_type": "markdown",
   "id": "402b84a2",
   "metadata": {},
   "source": [
    "# 5\n",
    "Write a Pandas program to convert a dictionary to a Pandas series."
   ]
  },
  {
   "cell_type": "code",
   "execution_count": 17,
   "id": "1744ec66",
   "metadata": {
    "scrolled": true
   },
   "outputs": [
    {
     "name": "stdout",
     "output_type": "stream",
     "text": [
      "{'a': 100, 'b': 200, 'c': 300, 'd': 400, 'e': 800}\n",
      "\n",
      "a    100\n",
      "b    200\n",
      "c    300\n",
      "d    400\n",
      "e    800\n",
      "dtype: int64\n"
     ]
    }
   ],
   "source": [
    "import pandas as pd\n",
    "d1 = {'a': 100, 'b': 200, 'c': 300, 'd': 400, 'e': 800}\n",
    "print(d1, end = '\\n\\n')\n",
    "s1 = pd.Series(d1)\n",
    "print(s1)"
   ]
  },
  {
   "cell_type": "markdown",
   "id": "67184009",
   "metadata": {},
   "source": [
    "# 6\n",
    "Write a Pandas program to convert a dictionary to a Pandas series."
   ]
  },
  {
   "cell_type": "code",
   "execution_count": 18,
   "id": "87fa7062",
   "metadata": {},
   "outputs": [
    {
     "name": "stdout",
     "output_type": "stream",
     "text": [
      "[1 2 3 4 5]\n",
      "\n",
      "0    1\n",
      "1    2\n",
      "2    3\n",
      "3    4\n",
      "4    5\n",
      "dtype: int32\n"
     ]
    }
   ],
   "source": [
    "import numpy as np\n",
    "import pandas as pd\n",
    "np_array = np.array([1, 2, 3, 4, 5])\n",
    "print(np_array, end = '\\n\\n')\n",
    "s1 = pd.Series(np_array)\n",
    "print(s1)"
   ]
  },
  {
   "cell_type": "markdown",
   "id": "4da4d9f7",
   "metadata": {},
   "source": [
    "# 7\n",
    "Write a Pandas program to change the data type of given a column or a Series."
   ]
  },
  {
   "cell_type": "code",
   "execution_count": 28,
   "id": "0afe199c",
   "metadata": {
    "scrolled": true
   },
   "outputs": [
    {
     "name": "stdout",
     "output_type": "stream",
     "text": [
      "0    1.0\n",
      "1    2.0\n",
      "2    NaN\n",
      "3    3.0\n",
      "4    4.0\n",
      "5    5.0\n",
      "dtype: float64\n"
     ]
    }
   ],
   "source": [
    "import pandas as pd\n",
    "s1 = pd.Series(['1', '2', 'Arif', 3, 4, 5])\n",
    "new_s1 = pd.to_numeric(s1, errors='coerce')\n",
    "print(new_s1)\n"
   ]
  },
  {
   "cell_type": "markdown",
   "id": "68dfae61",
   "metadata": {},
   "source": [
    "# 8\n",
    "Write a Pandas program to convert the first column of a DataFrame as a Series."
   ]
  },
  {
   "cell_type": "code",
   "execution_count": 41,
   "id": "b6be81c0",
   "metadata": {
    "scrolled": true
   },
   "outputs": [
    {
     "name": "stdout",
     "output_type": "stream",
     "text": [
      "   col1  col2  col3\n",
      "0     1     4    10\n",
      "1     2     5    11\n",
      "2     3     6    12\n",
      "3     4     7    13\n",
      "4     7     8    14\n",
      "5    11     9    15\n",
      "0     1\n",
      "1     2\n",
      "2     3\n",
      "3     4\n",
      "4     7\n",
      "5    11\n",
      "Name: col1, dtype: int64\n"
     ]
    }
   ],
   "source": [
    "import pandas as pd\n",
    "d = {'col1': [1, 2, 3, 4, 7, 11], 'col2': [4, 5, 6, 7, 8, 9], 'col3': [10, 11, 12, 13, 14, 15]}\n",
    "df = pd.DataFrame(d)\n",
    "print(df)\n",
    "s1 = df.iloc[:, 0]"
   ]
  },
  {
   "cell_type": "markdown",
   "id": "bf590c77",
   "metadata": {},
   "source": [
    "# 9\n",
    "Write a Pandas program to convert a given Series to an array."
   ]
  },
  {
   "cell_type": "code",
   "execution_count": 44,
   "id": "1867f530",
   "metadata": {
    "scrolled": true
   },
   "outputs": [
    {
     "name": "stdout",
     "output_type": "stream",
     "text": [
      "0    1\n",
      "1    2\n",
      "2    3\n",
      "3    4\n",
      "4    5\n",
      "dtype: int64\n",
      "\n",
      "[1 2 3 4 5]\n"
     ]
    }
   ],
   "source": [
    "import pandas as pd\n",
    "s1 = pd.Series([1, 2, 3, 4, 5])\n",
    "print(s1, end='\\n\\n')\n",
    "print(s1.values)"
   ]
  },
  {
   "cell_type": "markdown",
   "id": "5f3b4725",
   "metadata": {},
   "source": [
    "# 10\n",
    "Write a Pandas program to convert Series of lists to one Series."
   ]
  },
  {
   "cell_type": "code",
   "execution_count": 54,
   "id": "ce65b4cb",
   "metadata": {},
   "outputs": [
    {
     "name": "stdout",
     "output_type": "stream",
     "text": [
      "0    [1, 2]\n",
      "1    [3, 4]\n",
      "2    [5, 6]\n",
      "dtype: object\n",
      "\n",
      "0    1\n",
      "1    2\n",
      "2    3\n",
      "3    4\n",
      "4    5\n",
      "5    6\n",
      "dtype: int64\n"
     ]
    }
   ],
   "source": [
    "import pandas as pd\n",
    "s1 = pd.Series([[1, 2], [3, 4], [5, 6]])\n",
    "print(s1, end='\\n\\n')\n",
    "print(s1.apply(pd.Series).stack().reset_index(drop=True))"
   ]
  }
 ],
 "metadata": {
  "kernelspec": {
   "display_name": "Python 3 (ipykernel)",
   "language": "python",
   "name": "python3"
  },
  "language_info": {
   "codemirror_mode": {
    "name": "ipython",
    "version": 3
   },
   "file_extension": ".py",
   "mimetype": "text/x-python",
   "name": "python",
   "nbconvert_exporter": "python",
   "pygments_lexer": "ipython3",
   "version": "3.11.7"
  }
 },
 "nbformat": 4,
 "nbformat_minor": 5
}
