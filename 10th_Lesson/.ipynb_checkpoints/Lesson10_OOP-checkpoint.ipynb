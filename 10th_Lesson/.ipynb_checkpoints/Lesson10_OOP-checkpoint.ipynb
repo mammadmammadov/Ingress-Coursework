{
 "cells": [
  {
   "cell_type": "code",
   "execution_count": 6,
   "id": "9a7e535a",
   "metadata": {},
   "outputs": [
    {
     "name": "stdout",
     "output_type": "stream",
     "text": [
      "X.shape is (12, 2)\n",
      "w.shape is (2,)\n",
      "diff.shape is (12,)\n",
      "gradient.shape is (2,)\n",
      "\n",
      "[4.99999997 2.00000001]\n"
     ]
    }
   ],
   "source": [
    "import pandas as pd\n",
    "import numpy as np\n",
    "import matplotlib.pyplot as plt\n",
    "\n",
    "class LinearRegression:\n",
    "    def __init__(self, alpha=0.001, iterations=10000):\n",
    "        self.alpha = alpha\n",
    "        self.iterations = iterations\n",
    "        self.w = None\n",
    "    \n",
    "    def fit(self, X, y):\n",
    "        n_samples, n_features = X.shape\n",
    "        print(f\"X.shape is {X.shape}\")\n",
    "        self.w = np.zeros(n_features)  \n",
    "        print(f\"w.shape is {self.w.shape}\")\n",
    "        for i in range(self.iterations):\n",
    "            h = X.dot(self.w)\n",
    "            diff = h - y\n",
    "            gradient = (1/n_samples) * diff.T.dot(X)\n",
    "            self.w = self.w - self.alpha * gradient\n",
    "        print(f\"diff.shape is {diff.shape}\")\n",
    "        print(f\"gradient.shape is {gradient.shape}\\n\")\n",
    "        return self.w\n",
    "    \n",
    "    def predict(self, X):\n",
    "        return X.dot(self.w)\n",
    "    \n",
    "def applyAZN(col):\n",
    "    lst = col.split()\n",
    "    if 'AZN' in col:\n",
    "        return float(lst[0])\n",
    "    if '$' in col:\n",
    "        return float(lst[0]) * 1.7\n",
    "    return 0\n",
    "\n",
    "    \n",
    "model = LinearRegression(alpha=0.001, iterations=100000)\n",
    "    \n",
    "df = pd.read_csv('../5th_Lesson/data/turboaz.csv')\n",
    "df = df[['Buraxilish ili', 'Qiymet']].copy()\n",
    "df2 = df.copy()\n",
    "df['Qiymet'] = df['Qiymet'].apply(applyAZN)\n",
    "df2['Qiymet'] = df2['Qiymet'].apply(applyAZN)\n",
    "df['Buraxilish ili'] = (df['Buraxilish ili'] - df['Buraxilish ili'].mean()) / df['Buraxilish ili'].std()\n",
    "df['Qiymet'] = (df['Qiymet'] - df['Qiymet'].mean())/df['Qiymet'].std()\n",
    "\n",
    "# x0 = np.ones(len(df))\n",
    "x0 = np.ones(12)\n",
    "\n",
    "# inputs = np.array([x0, df['Buraxilish ili']]).T \n",
    "    \n",
    "# outputs = df['Qiymet']\n",
    "\n",
    "inputs = np.array([x0, [1, 5, 7, 3, 6, 5, 4, 3, 7, 5, 2, 1]]).T\n",
    "outputs = [7, 15, 19, 11, 17, 15, 13, 11, 19, 15, 9, 7]\n",
    "    \n",
    "final_coef = model.fit(inputs, outputs)\n",
    "\n",
    "print(final_coef)\n",
    "\n",
    "# print(model.predict(inputs))"
   ]
  },
  {
   "cell_type": "code",
   "execution_count": 71,
   "id": "4aabf582",
   "metadata": {},
   "outputs": [
    {
     "data": {
      "text/plain": [
       "0      -0.191676\n",
       "1       2.815558\n",
       "2      -0.250282\n",
       "3      -0.396798\n",
       "4      -0.177024\n",
       "          ...   \n",
       "1323   -0.462730\n",
       "1324   -0.645874\n",
       "1325   -0.308888\n",
       "1326   -0.279585\n",
       "1327   -0.338191\n",
       "Name: Qiymet, Length: 1328, dtype: float64"
      ]
     },
     "execution_count": 71,
     "metadata": {},
     "output_type": "execute_result"
    }
   ],
   "source": [
    "df['Qiymet']"
   ]
  },
  {
   "cell_type": "code",
   "execution_count": 72,
   "id": "5b673ed1",
   "metadata": {},
   "outputs": [],
   "source": [
    "df2['Prediction'] = (final_coef[0] * 1 + final_coef[1] * ((df2['Buraxilish ili'] - df2['Buraxilish ili'].mean())/df2['Buraxilish ili'].std())) * df2.Qiymet.std() + df2.Qiymet.mean()"
   ]
  },
  {
   "cell_type": "code",
   "execution_count": 73,
   "id": "d36aeacd",
   "metadata": {},
   "outputs": [
    {
     "data": {
      "text/html": [
       "<div>\n",
       "<style scoped>\n",
       "    .dataframe tbody tr th:only-of-type {\n",
       "        vertical-align: middle;\n",
       "    }\n",
       "\n",
       "    .dataframe tbody tr th {\n",
       "        vertical-align: top;\n",
       "    }\n",
       "\n",
       "    .dataframe thead th {\n",
       "        text-align: right;\n",
       "    }\n",
       "</style>\n",
       "<table border=\"1\" class=\"dataframe\">\n",
       "  <thead>\n",
       "    <tr style=\"text-align: right;\">\n",
       "      <th></th>\n",
       "      <th>Buraxilish ili</th>\n",
       "      <th>Qiymet</th>\n",
       "      <th>Prediction</th>\n",
       "    </tr>\n",
       "  </thead>\n",
       "  <tbody>\n",
       "    <tr>\n",
       "      <th>0</th>\n",
       "      <td>1999</td>\n",
       "      <td>12500.0</td>\n",
       "      <td>13155.579715</td>\n",
       "    </tr>\n",
       "    <tr>\n",
       "      <th>1</th>\n",
       "      <td>2014</td>\n",
       "      <td>53550.0</td>\n",
       "      <td>47121.341524</td>\n",
       "    </tr>\n",
       "    <tr>\n",
       "      <th>2</th>\n",
       "      <td>2002</td>\n",
       "      <td>11700.0</td>\n",
       "      <td>19948.732077</td>\n",
       "    </tr>\n",
       "    <tr>\n",
       "      <th>3</th>\n",
       "      <td>1998</td>\n",
       "      <td>9700.0</td>\n",
       "      <td>10891.195594</td>\n",
       "    </tr>\n",
       "    <tr>\n",
       "      <th>4</th>\n",
       "      <td>2000</td>\n",
       "      <td>12700.0</td>\n",
       "      <td>15419.963835</td>\n",
       "    </tr>\n",
       "    <tr>\n",
       "      <th>...</th>\n",
       "      <td>...</td>\n",
       "      <td>...</td>\n",
       "      <td>...</td>\n",
       "    </tr>\n",
       "    <tr>\n",
       "      <th>1323</th>\n",
       "      <td>1996</td>\n",
       "      <td>8800.0</td>\n",
       "      <td>6362.427353</td>\n",
       "    </tr>\n",
       "    <tr>\n",
       "      <th>1324</th>\n",
       "      <td>1994</td>\n",
       "      <td>6300.0</td>\n",
       "      <td>1833.659112</td>\n",
       "    </tr>\n",
       "    <tr>\n",
       "      <th>1325</th>\n",
       "      <td>1998</td>\n",
       "      <td>10900.0</td>\n",
       "      <td>10891.195594</td>\n",
       "    </tr>\n",
       "    <tr>\n",
       "      <th>1326</th>\n",
       "      <td>2000</td>\n",
       "      <td>11300.0</td>\n",
       "      <td>15419.963835</td>\n",
       "    </tr>\n",
       "    <tr>\n",
       "      <th>1327</th>\n",
       "      <td>1996</td>\n",
       "      <td>10500.0</td>\n",
       "      <td>6362.427353</td>\n",
       "    </tr>\n",
       "  </tbody>\n",
       "</table>\n",
       "<p>1328 rows × 3 columns</p>\n",
       "</div>"
      ],
      "text/plain": [
       "      Buraxilish ili   Qiymet    Prediction\n",
       "0               1999  12500.0  13155.579715\n",
       "1               2014  53550.0  47121.341524\n",
       "2               2002  11700.0  19948.732077\n",
       "3               1998   9700.0  10891.195594\n",
       "4               2000  12700.0  15419.963835\n",
       "...              ...      ...           ...\n",
       "1323            1996   8800.0   6362.427353\n",
       "1324            1994   6300.0   1833.659112\n",
       "1325            1998  10900.0  10891.195594\n",
       "1326            2000  11300.0  15419.963835\n",
       "1327            1996  10500.0   6362.427353\n",
       "\n",
       "[1328 rows x 3 columns]"
      ]
     },
     "execution_count": 73,
     "metadata": {},
     "output_type": "execute_result"
    }
   ],
   "source": [
    "df2"
   ]
  },
  {
   "cell_type": "code",
   "execution_count": 74,
   "id": "a32b704d",
   "metadata": {},
   "outputs": [
    {
     "data": {
      "text/plain": [
       "1989"
      ]
     },
     "execution_count": 74,
     "metadata": {},
     "output_type": "execute_result"
    }
   ],
   "source": [
    "df2['Buraxilish ili'].min()"
   ]
  }
 ],
 "metadata": {
  "kernelspec": {
   "display_name": "Python 3 (ipykernel)",
   "language": "python",
   "name": "python3"
  },
  "language_info": {
   "codemirror_mode": {
    "name": "ipython",
    "version": 3
   },
   "file_extension": ".py",
   "mimetype": "text/x-python",
   "name": "python",
   "nbconvert_exporter": "python",
   "pygments_lexer": "ipython3",
   "version": "3.11.7"
  }
 },
 "nbformat": 4,
 "nbformat_minor": 5
}
