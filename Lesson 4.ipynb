{
 "cells": [
  {
   "cell_type": "code",
   "execution_count": 13,
   "id": "455bb61b-b656-4c4f-b036-12a7b838a6ca",
   "metadata": {},
   "outputs": [],
   "source": [
    "# string = \"ahmad\"\n",
    "\n",
    "# def checkPolindrome(word):\n",
    "#     if len(word) <= 1:\n",
    "#         return True\n",
    "#     if word[0] != word[-1]:\n",
    "#         return False\n",
    "#     return checkPolindrome(word[1:-1])"
   ]
  },
  {
   "cell_type": "code",
   "execution_count": null,
   "id": "489fd44e-a3fd-482b-acc4-20a3077d0562",
   "metadata": {},
   "outputs": [],
   "source": []
  },
  {
   "cell_type": "code",
   "execution_count": 5,
   "id": "a45f816e-b5b9-4997-bd58-fa5a1800f0b1",
   "metadata": {},
   "outputs": [
    {
     "name": "stdout",
     "output_type": "stream",
     "text": [
      "Name: Ahmad, Average : 95.0\n",
      "Name: Jasur, Average : 91.66666666666667\n",
      "Name: Aiteen, Average : 88.33333333333333\n",
      "Name: Ali, Average : 84.0\n",
      "Name: Tofig, Average : 60.0\n"
     ]
    }
   ],
   "source": [
    "class Student: \n",
    "\n",
    "    def  __init__(self, id_, name, grades, major):\n",
    "        self.__id_ = id_\n",
    "        self.__name = name\n",
    "        self.__grades = grades\n",
    "        self.__major = major\n",
    "        self.__average = self.__calculateAverage()\n",
    "\n",
    "    def __calculateAverage(self):\n",
    "        total = 0\n",
    "        for i in self.__grades.values():\n",
    "            total += i\n",
    "            \n",
    "        return total / len(self.__grades)\n",
    "\n",
    "    def getAverage(self):\n",
    "        return self.__average\n",
    "        \n",
    "    def getID(self):\n",
    "        return self.__id_\n",
    "\n",
    "    def setID(self, newID):\n",
    "        self.__id_ = newID\n",
    "        \n",
    "    def getName(self):\n",
    "        return self.__name\n",
    "\n",
    "    def setName(self, newName):\n",
    "        self.__name = newName\n",
    "\n",
    "    def getMajor(self):\n",
    "        return self.__major\n",
    "\n",
    "    def setMajor(self, newMajor):\n",
    "        self.__major = newMajor\n",
    "\n",
    "    def __str__(self):\n",
    "        return \"Name: \" + str(self.getName()) + \", Average : \" + str(self.getAverage())\n",
    "\n",
    "\n",
    "s1 = Student(1234, \"Ahmad\",   {\"CS\" : 100, \"PP1\":90,  \"PP2\" : 95}, \"CS\")\n",
    "s2 = Student(4323, \"Ali\" ,    {\"CS\" : 90,  \"PP1\":70,  \"PP2\" : 92}, \"CS\")\n",
    "s3 = Student(4324, \"Aiteen\" , {\"CS\" : 95,  \"PP1\":100, \"PP2\" : 70}, \"CS\")\n",
    "s4 = Student(4325, \"Jasur\" ,  {\"CS\" : 91,  \"PP1\":92,  \"PP2\" : 92}, \"CS\")\n",
    "s5 = Student(4326, \"Tofig\" ,  {\"CS\" : 50,  \"PP1\":70,  \"PP2\" : 60}, \"CS\")\n",
    "\n",
    "lst = [s1, s2, s3, s4, s5]\n",
    "\n",
    "maxStudent = lst[0]\n",
    "\n",
    "\n",
    "for i in lst:\n",
    "    if maxStudent.getAverage() < i.getAverage():\n",
    "        maxStudent = i\n",
    "\n",
    "for i in range(len(lst)):\n",
    "    for j in range(i, len(lst)):\n",
    "        if lst[i].getAverage() < lst[j].getAverage() :\n",
    "            temp = lst[i]\n",
    "            lst[i] = lst[j]\n",
    "            lst[j] = temp\n",
    "\n",
    "for i in lst:\n",
    "    print(i)"
   ]
  },
  {
   "cell_type": "code",
   "execution_count": 53,
   "id": "c4311837-07da-49ad-8923-04ba1f06b480",
   "metadata": {},
   "outputs": [],
   "source": [
    "# test = [1, 0, -2, 5, 7, -3]\n",
    "\n",
    "# for i in range(len(test)):\n",
    "#     for j in range(len(test)):\n",
    "#         if test[i] < test[j]:\n",
    "#             test[i] = test[i] + test[j]\n",
    "#             test[j] = test[i] - test[j]\n",
    "#             test[i] = test[i] - test[j]\n",
    "\n",
    "# for i in test:\n",
    "#     print(i)"
   ]
  },
  {
   "cell_type": "code",
   "execution_count": 54,
   "id": "492b7f38-fe44-4a43-beed-06c06d2ab094",
   "metadata": {},
   "outputs": [
    {
     "name": "stdout",
     "output_type": "stream",
     "text": [
      "Name: Ahmad, Average : 95.0\n"
     ]
    }
   ],
   "source": [
    "print(s1)"
   ]
  },
  {
   "cell_type": "code",
   "execution_count": 6,
   "id": "a0dc443c-761a-40d2-968d-140f5363c947",
   "metadata": {},
   "outputs": [],
   "source": []
  },
  {
   "cell_type": "code",
   "execution_count": null,
   "id": "e055f87f-38a5-4623-aa70-b57f376056dc",
   "metadata": {},
   "outputs": [],
   "source": []
  }
 ],
 "metadata": {
  "kernelspec": {
   "display_name": "Python 3 (ipykernel)",
   "language": "python",
   "name": "python3"
  },
  "language_info": {
   "codemirror_mode": {
    "name": "ipython",
    "version": 3
   },
   "file_extension": ".py",
   "mimetype": "text/x-python",
   "name": "python",
   "nbconvert_exporter": "python",
   "pygments_lexer": "ipython3",
   "version": "3.11.7"
  }
 },
 "nbformat": 4,
 "nbformat_minor": 5
}
