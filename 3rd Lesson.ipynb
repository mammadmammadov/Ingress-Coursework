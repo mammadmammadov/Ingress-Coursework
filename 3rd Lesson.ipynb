{
 "cells": [
  {
   "cell_type": "code",
   "execution_count": 9,
   "id": "9ee8f6f4",
   "metadata": {},
   "outputs": [
    {
     "name": "stdout",
     "output_type": "stream",
     "text": [
      "Mammad\n",
      "ID: 1, Name: Mammad, Academy: ADA\n",
      "ADA\n",
      "ADA\n",
      "<class '__main__.Student'>\n"
     ]
    }
   ],
   "source": [
    "class Student:\n",
    "    \n",
    "    academy = \"ADA\" # this is class variable\n",
    "    \n",
    "    def __init__(self, id_, name):\n",
    "        self.id_ = id_ # this is instance variable\n",
    "        self.Name = name # this is instance variable\n",
    "        \n",
    "    def __str__(self):\n",
    "        return \"ID: \" + str(self.id_) + \", Name: \" + self.Name + \", Academy: \" + self.academy\n",
    "        \n",
    "s1 = Student(1, \"Mammad\")\n",
    "print(s1.Name)\n",
    "print(s1)\n",
    "print(Student.academy)\n",
    "print(s1.academy)\n",
    "print(Student)"
   ]
  },
  {
   "cell_type": "code",
   "execution_count": null,
   "id": "31566123",
   "metadata": {},
   "outputs": [],
   "source": []
  }
 ],
 "metadata": {
  "kernelspec": {
   "display_name": "Python 3 (ipykernel)",
   "language": "python",
   "name": "python3"
  },
  "language_info": {
   "codemirror_mode": {
    "name": "ipython",
    "version": 3
   },
   "file_extension": ".py",
   "mimetype": "text/x-python",
   "name": "python",
   "nbconvert_exporter": "python",
   "pygments_lexer": "ipython3",
   "version": "3.11.7"
  }
 },
 "nbformat": 4,
 "nbformat_minor": 5
}
