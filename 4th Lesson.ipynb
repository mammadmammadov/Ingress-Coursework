{
 "cells": [
  {
   "cell_type": "code",
   "execution_count": 40,
   "id": "1c84eb04",
   "metadata": {},
   "outputs": [
    {
     "name": "stdout",
     "output_type": "stream",
     "text": [
      "1 a1 m1\n",
      "370.0\n",
      "1 a1 m1\n",
      "1 a5 m5\n",
      "1 a2 m2\n",
      "1 a3 m3\n",
      "1 a4 m4\n"
     ]
    }
   ],
   "source": [
    "class Student:\n",
    "    def __init__(self, id_, name, grades, major):\n",
    "        self.__id_ = id_\n",
    "        self.__name = name\n",
    "        self.__grades = grades\n",
    "        self.__major = major\n",
    "        self.__average = self.get_average()\n",
    "        \n",
    "    def __str__(this):\n",
    "        return str(this.__id_) + \" \" + this.__name  + \" \" + this.__major\n",
    "        \n",
    "    def get_id(self):\n",
    "        return self.__id_\n",
    "    def set_id(self, new_id):\n",
    "        self.__id_ = new_id\n",
    "    def get_name(self):\n",
    "        return self.__name\n",
    "    def set_name(self, new_name):\n",
    "        self.__name = new_name\n",
    "    def get_grades(self):\n",
    "        return self.__grades\n",
    "    def set_grades(self, new_grades):\n",
    "        self.__grades = new_grades\n",
    "    def get_major(self):\n",
    "        return self.__major\n",
    "    def set_major(self, new_major):\n",
    "        self.__major = new_major\n",
    "        \n",
    "    def __calculate_gpa(self):\n",
    "        total = 0\n",
    "        for i in self.__grades.values():\n",
    "            total += i\n",
    "        return total / len(self.__grades)\n",
    "    def get_average(self):\n",
    "        return self.__calculate_gpa()\n",
    "    \n",
    "\n",
    "s1 = Student(1, \"a1\", {\"c1\": 990, \"c2\":70, \"c3\":50}, \"m1\") \n",
    "s2 = Student(1, \"a2\", {\"c1\": 80, \"c2\":80, \"c3\":50}, \"m2\") \n",
    "s3 = Student(1, \"a3\", {\"c1\": 70, \"c2\":70, \"c3\":50}, \"m3\") \n",
    "s4 = Student(1, \"a4\", {\"c1\": 60, \"c2\":70, \"c3\":50}, \"m4\") \n",
    "s5 = Student(1, \"a5\", {\"c1\": 410, \"c2\":70, \"c3\":50}, \"m5\") \n",
    "\n",
    "lst = [s1, s2, s3, s4, s5]\n",
    "\n",
    "max_student = lst[0]\n",
    "\n",
    "for i in lst:\n",
    "    if i.get_average() > max_student.get_average():\n",
    "        max_student = i\n",
    "        \n",
    "print(str(max_student))\n",
    "\n",
    "print(s1.get_average())\n",
    "\n",
    "for i in range(len(lst)):\n",
    "    for j in range(len(lst)):\n",
    "        if(lst[i].get_average() > lst[j].get_average()):\n",
    "            temp = lst[i]\n",
    "            lst[i] = lst[j]\n",
    "            lst[j] = temp\n",
    "for i in lst:\n",
    "    print(i)"
   ]
  },
  {
   "cell_type": "code",
   "execution_count": 42,
   "id": "d4b4a7bd",
   "metadata": {},
   "outputs": [
    {
     "name": "stdout",
     "output_type": "stream",
     "text": [
      "-3\n",
      "-2\n",
      "0\n",
      "1\n",
      "5\n",
      "7\n"
     ]
    }
   ],
   "source": [
    "test = [1, 0, -2, 5, 7, -3]\n",
    "\n",
    "for i in range(len(test)):\n",
    "    for j in range(len(test)):\n",
    "        if test[i] < test[j]:\n",
    "            test[i] = test[i] + test[j]\n",
    "            test[j] = test[i] - test[j]\n",
    "            test[i] = test[i] - test[j]\n",
    "for i in test:\n",
    "    print(i)"
   ]
  },
  {
   "cell_type": "code",
   "execution_count": null,
   "id": "e12b059e",
   "metadata": {},
   "outputs": [],
   "source": [
    "a = a + b\n",
    "b = a - b\n",
    "a = a - b"
   ]
  },
  {
   "cell_type": "code",
   "execution_count": null,
   "id": "1937955c",
   "metadata": {},
   "outputs": [],
   "source": []
  }
 ],
 "metadata": {
  "kernelspec": {
   "display_name": "Python 3 (ipykernel)",
   "language": "python",
   "name": "python3"
  },
  "language_info": {
   "codemirror_mode": {
    "name": "ipython",
    "version": 3
   },
   "file_extension": ".py",
   "mimetype": "text/x-python",
   "name": "python",
   "nbconvert_exporter": "python",
   "pygments_lexer": "ipython3",
   "version": "3.11.7"
  }
 },
 "nbformat": 4,
 "nbformat_minor": 5
}
