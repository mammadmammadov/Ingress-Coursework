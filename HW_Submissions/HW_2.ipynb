{
 "cells": [
  {
   "cell_type": "markdown",
   "id": "4a5d3ead",
   "metadata": {},
   "source": [
    "# Part 1"
   ]
  },
  {
   "cell_type": "code",
   "execution_count": 23,
   "id": "dc1ffdc8",
   "metadata": {},
   "outputs": [
    {
     "name": "stdout",
     "output_type": "stream",
     "text": [
      "13\n"
     ]
    }
   ],
   "source": [
    "# Write a Python program to calculate the sum of a list of numbers using recursion\n",
    "\n",
    "def Sum(numbers):\n",
    "    if (len(numbers)) == 1:\n",
    "        return numbers[0]\n",
    "    return numbers[0] + Sum(numbers[1:])\n",
    "print(Sum([1, 3, 9]))"
   ]
  },
  {
   "cell_type": "code",
   "execution_count": 8,
   "id": "bab9b896",
   "metadata": {},
   "outputs": [
    {
     "name": "stdout",
     "output_type": "stream",
     "text": [
      "120\n"
     ]
    }
   ],
   "source": [
    "# Write a Python program to get the factorial of a non-negative integer using recursion.\n",
    "\n",
    "def factorial(number):\n",
    "    if number == 0:\n",
    "        return 1\n",
    "    return number * factorial(number-1)\n",
    "print(factorial(5))"
   ]
  },
  {
   "cell_type": "code",
   "execution_count": 10,
   "id": "683c5a43",
   "metadata": {},
   "outputs": [
    {
     "name": "stdout",
     "output_type": "stream",
     "text": [
      "64\n"
     ]
    }
   ],
   "source": [
    "# Write a Python program to calculate the value of 'a' to the power of 'b' using recursion.\n",
    "\n",
    "def pow_a_to_b(a, b):\n",
    "    if b == 0:\n",
    "        return 1\n",
    "    return a * pow_a_to_b(a, b-1)\n",
    "print(pow_a_to_b(4, 3))"
   ]
  },
  {
   "cell_type": "code",
   "execution_count": 18,
   "id": "9b7c34de",
   "metadata": {
    "scrolled": true
   },
   "outputs": [
    {
     "name": "stdout",
     "output_type": "stream",
     "text": [
      "30\n"
     ]
    }
   ],
   "source": [
    "# Write a Python program to calculate the sum of the positive integers of n+(n-2)+(n-4)... (until n-x =< 0) using recursion.\n",
    "\n",
    "def sum_series(number):\n",
    "    if number <= 0:\n",
    "        return 0\n",
    "    return number + Sum(number-2)\n",
    "print(sum_series(10))\n"
   ]
  },
  {
   "cell_type": "code",
   "execution_count": 2,
   "id": "1bd4ad4b",
   "metadata": {
    "scrolled": true
   },
   "outputs": [
    {
     "name": "stdout",
     "output_type": "stream",
     "text": [
      "['Samir', [4, 5], False, 3, 2]\n"
     ]
    }
   ],
   "source": [
    "# Write a Python program that prints the list in reversed order.\n",
    "\n",
    "def reverse_list(lst):\n",
    "    reversed_list = lst[::-1]\n",
    "    print(reversed_list)\n",
    "reverse_list([2, 3, False, [4, 5], 'Samir'])    "
   ]
  },
  {
   "cell_type": "markdown",
   "id": "a8830359",
   "metadata": {},
   "source": [
    "# Part 2 (Lists)"
   ]
  },
  {
   "cell_type": "code",
   "execution_count": 30,
   "id": "2848629b",
   "metadata": {},
   "outputs": [
    {
     "name": "stdout",
     "output_type": "stream",
     "text": [
      "11.1\n"
     ]
    }
   ],
   "source": [
    "# Find the Largest Number: Write a Python function to find the largest number in a list.\n",
    "\n",
    "def largest(numbers):\n",
    "    Max = numbers[0]\n",
    "    for i in numbers:\n",
    "        if i > Max:\n",
    "            Max = i\n",
    "    return Max\n",
    "print(largest([11.1, 3, 4.4, 1]))"
   ]
  },
  {
   "cell_type": "code",
   "execution_count": 31,
   "id": "2d09e233",
   "metadata": {},
   "outputs": [
    {
     "name": "stdout",
     "output_type": "stream",
     "text": [
      "6.2\n"
     ]
    }
   ],
   "source": [
    "# Sum of List: Create a function that returns the sum of all elements in a list.\n",
    "\n",
    "def Sum(numbers):\n",
    "    sum = 0\n",
    "    for i in numbers:\n",
    "        sum += i\n",
    "    return sum\n",
    "print(Sum([1.2, 2, 3]))"
   ]
  },
  {
   "cell_type": "code",
   "execution_count": 32,
   "id": "dd5e4826",
   "metadata": {},
   "outputs": [
    {
     "name": "stdout",
     "output_type": "stream",
     "text": [
      "[3, 4, 2, 1]\n",
      "[1, 2, 4, 3]\n"
     ]
    }
   ],
   "source": [
    "# List Reversal: Write a function that takes a list and returns it in reverse order.\n",
    "\n",
    "def reverse_list(lst):\n",
    "    lst = lst[::-1]\n",
    "    return lst\n",
    "lst = [1, 2, 4, 3]\n",
    "print(reverse_list(lst))\n",
    "print(lst) # original list won't be affected as it is passing by value"
   ]
  },
  {
   "cell_type": "code",
   "execution_count": 34,
   "id": "5d916a39",
   "metadata": {},
   "outputs": [
    {
     "name": "stdout",
     "output_type": "stream",
     "text": [
      "2.2\n"
     ]
    }
   ],
   "source": [
    "# Find Minimum: Develop a function that finds the smallest number in a list.\n",
    "\n",
    "def smallest(lst):\n",
    "    Min = lst[0]\n",
    "    for i in lst:\n",
    "        if i < Min:\n",
    "            Min = i\n",
    "    return Min\n",
    "print(smallest([10, 5, 4, 2.2, 13]))"
   ]
  },
  {
   "cell_type": "code",
   "execution_count": 38,
   "id": "d1a74249",
   "metadata": {},
   "outputs": [
    {
     "name": "stdout",
     "output_type": "stream",
     "text": [
      "[1, 2, 3, 5, 6, 7.1]\n"
     ]
    }
   ],
   "source": [
    "# Remove Duplicates: Develop a function to remove all duplicates from a list without using set(). \n",
    "# The order of the list should remain unchanged.\n",
    "\n",
    "def remove_duplicates(lst):\n",
    "    no_duplicates = []\n",
    "    for i in lst:\n",
    "        if i not in no_duplicates:\n",
    "            no_duplicates.append(i)\n",
    "    return no_duplicates\n",
    "print(remove_duplicates([1, 1, 2, 3, 3, 5, 6, 7.1, 7.100, 7.10]))"
   ]
  },
  {
   "cell_type": "code",
   "execution_count": 47,
   "id": "bd8fff2f",
   "metadata": {},
   "outputs": [
    {
     "name": "stdout",
     "output_type": "stream",
     "text": [
      "['a', 1, 'b', 2, 3]\n"
     ]
    }
   ],
   "source": [
    "# Interleave Two Lists: Write a function that combines two lists by alternatingly taking elements. \n",
    "# For example, interleave([a, b], [1, 2, 3]) should return [a, 1, b, 2, 3].\n",
    "\n",
    "def interleave(lst1, lst2):\n",
    "    res = []\n",
    "    while lst1 or lst2: # checking whether any of them is not empty\n",
    "        if len(lst1) > 0:\n",
    "            res.append(lst1[0])\n",
    "            lst1.pop(0)\n",
    "        if len(lst2) > 0:\n",
    "            res.append(lst2[0])\n",
    "            lst2.pop(0)\n",
    "    return res\n",
    "\n",
    "\n",
    "print(interleave(['a', 'b'], [1, 2, 3]))\n",
    "\n"
   ]
  },
  {
   "cell_type": "markdown",
   "id": "430e4911",
   "metadata": {},
   "source": [
    "# Part 3 (Recursion)"
   ]
  },
  {
   "cell_type": "code",
   "execution_count": 49,
   "id": "15574c3e",
   "metadata": {},
   "outputs": [
    {
     "name": "stdout",
     "output_type": "stream",
     "text": [
      "olleh\n"
     ]
    }
   ],
   "source": [
    "# Reverse a String: Write a recursive function in Python that reverses a given string. \n",
    "# For example, the input 'hello' should return 'olleh'.\n",
    "\n",
    "def reverse_string(string):\n",
    "    if len(string) == 0:\n",
    "        return string\n",
    "    return reverse_string(string[1:]) + string[0]\n",
    "print(reverse_string('hello'))"
   ]
  },
  {
   "cell_type": "code",
   "execution_count": 75,
   "id": "ccec830c",
   "metadata": {},
   "outputs": [
    {
     "name": "stdout",
     "output_type": "stream",
     "text": [
      "3\n",
      "8\n",
      "13551125668563101951636936867148408377786010712418497242133543153221487310873528750612259354035717265300373778814347320257699257082356550045349914102924249595997483982228699287527241931811325095099642447621242200209254439920196960465321438498305345893378932585393381539093549479296194800838145996187122583354898000\n"
     ]
    }
   ],
   "source": [
    "# ⁠Fibonacci Sequence: Create a recursive function to calculate the nth term in the Fibonacci sequence. \n",
    "# The Fibonacci sequence is characterized by the fact that every number after the first two is the sum of the two preceding ones.\n",
    "\n",
    "def fibonacci(n, memo = {}):\n",
    "    if n == 0 or n==1:\n",
    "        return n\n",
    "    if n in memo:\n",
    "        return memo[n]\n",
    "    res = fibonacci(n-1, memo) + fibonacci(n-2, memo)\n",
    "    memo[n] = res\n",
    "    return res\n",
    "print(fibonacci(4))\n",
    "print(fibonacci(6))\n",
    "print(fibonacci(1500))"
   ]
  },
  {
   "cell_type": "code",
   "execution_count": 76,
   "id": "7e277220",
   "metadata": {},
   "outputs": [
    {
     "name": "stdout",
     "output_type": "stream",
     "text": [
      "15\n"
     ]
    }
   ],
   "source": [
    "# ⁠Sum of Natural Numbers: Develop a recursive function that returns the sum of the first n natural numbers. \n",
    "# For example, if the input is 5, the function should return 15 (1+2+3+4+5).\n",
    "\n",
    "def Sum(n):\n",
    "    if n == 0:\n",
    "        return 0\n",
    "    return n + Sum(n-1)\n",
    "print(Sum(5))"
   ]
  },
  {
   "cell_type": "code",
   "execution_count": 79,
   "id": "94bf87ef",
   "metadata": {},
   "outputs": [
    {
     "name": "stdout",
     "output_type": "stream",
     "text": [
      "YES\n",
      "NO\n"
     ]
    }
   ],
   "source": [
    "# ⁠Checking Palindromes: Develop a recursive function to check whether a given string is a palindrome\n",
    "# (reads the same forward and backward).\n",
    "\n",
    "# Time complexity of this code is O(n), I don't think there's more efficient way to do it\n",
    "\n",
    "def reverse_string(string):\n",
    "    if len(string) == 0:\n",
    "        return string\n",
    "    return reverse_string(string[1:]) + string[0]\n",
    "\n",
    "def is_palindrome(string):\n",
    "    if string == reverse_string(string):\n",
    "        return \"YES\"\n",
    "    return \"NO\"\n",
    "\n",
    "print(is_palindrome('aziza'))\n",
    "print(is_palindrome('akif'))"
   ]
  },
  {
   "cell_type": "code",
   "execution_count": null,
   "id": "ea39516e",
   "metadata": {},
   "outputs": [],
   "source": []
  },
  {
   "cell_type": "code",
   "execution_count": null,
   "id": "65e44a42",
   "metadata": {},
   "outputs": [],
   "source": []
  }
 ],
 "metadata": {
  "kernelspec": {
   "display_name": "Python 3 (ipykernel)",
   "language": "python",
   "name": "python3"
  },
  "language_info": {
   "codemirror_mode": {
    "name": "ipython",
    "version": 3
   },
   "file_extension": ".py",
   "mimetype": "text/x-python",
   "name": "python",
   "nbconvert_exporter": "python",
   "pygments_lexer": "ipython3",
   "version": "3.11.7"
  }
 },
 "nbformat": 4,
 "nbformat_minor": 5
}
