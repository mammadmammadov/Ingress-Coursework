{
 "cells": [
  {
   "cell_type": "code",
   "execution_count": null,
   "id": "fbd1d545",
   "metadata": {},
   "outputs": [],
   "source": [
    "# 4717\n",
    "n = int(input())\n",
    "k = int(input())\n",
    "print(k%n)"
   ]
  },
  {
   "cell_type": "code",
   "execution_count": null,
   "id": "5c7d846f",
   "metadata": {},
   "outputs": [],
   "source": [
    "#906\n",
    "n = int(input())\n",
    "res = 1\n",
    "while n>0:\n",
    "    res *= n%10\n",
    "    n//=10\n",
    "print(res)"
   ]
  },
  {
   "cell_type": "code",
   "execution_count": null,
   "id": "b7679873",
   "metadata": {},
   "outputs": [],
   "source": [
    "#2860\n",
    "a, b = map(int, input().split(' '))\n",
    "print(int(b*(b+1)/2-a*(a-1)/2))"
   ]
  },
  {
   "cell_type": "code",
   "execution_count": null,
   "id": "d7225272",
   "metadata": {},
   "outputs": [],
   "source": [
    "#248\n",
    "# a1 = 2 d = 2 an = 2 + 2* (n-1) = 2n\n",
    "# s = (a1+an)/2*n = (2n+2)/2*n=(n+1)*n\n",
    "n = int(input())\n",
    "print(1+n*(n+1) )"
   ]
  },
  {
   "cell_type": "code",
   "execution_count": null,
   "id": "b9b3cede",
   "metadata": {},
   "outputs": [],
   "source": [
    "#8254\n",
    "n, m = map(int, input().split(' '))\n",
    "print(3*(n-1)*m)"
   ]
  },
  {
   "cell_type": "code",
   "execution_count": null,
   "id": "f60b359b",
   "metadata": {},
   "outputs": [],
   "source": [
    "#8837\n",
    "a, b = map(int, input().split(' '))\n",
    "print(f\"{a//b} {a%b}\")"
   ]
  },
  {
   "cell_type": "code",
   "execution_count": null,
   "id": "fdfb8d98",
   "metadata": {},
   "outputs": [],
   "source": [
    "#8813\n",
    "a, b, c = map(int, input().split(' '))\n",
    "print(f\"{2*(a*b+a*c+b*c)} {a*b*c}\")"
   ]
  },
  {
   "cell_type": "code",
   "execution_count": null,
   "id": "0e706f8f",
   "metadata": {},
   "outputs": [],
   "source": [
    "#959\n",
    "def sumFirstLast(n):\n",
    "    return int(str(n)[0])+int(str(n)[len(str(n))-1])\n",
    "n = int(input())\n",
    "print(sumFirstLast(n))\n",
    "    "
   ]
  },
  {
   "cell_type": "code",
   "execution_count": null,
   "id": "68ba7ce5",
   "metadata": {},
   "outputs": [],
   "source": [
    "#8815\n",
    "def surface_area_volume(n):\n",
    "    return f\"{6*n**2} {n**3}\"\n",
    "n = int(input())\n",
    "print(surface_area_volume(n))"
   ]
  },
  {
   "cell_type": "code",
   "execution_count": null,
   "id": "7ad74787",
   "metadata": {},
   "outputs": [],
   "source": [
    "#2606\n",
    "def min_max(a, b):\n",
    "    return f\"{min(a, b)} {max(a, b)}\"\n",
    "a, b = map(int, input().split(' '))\n",
    "print(min_max(a, b))"
   ]
  },
  {
   "cell_type": "code",
   "execution_count": null,
   "id": "d2638a22",
   "metadata": {},
   "outputs": [],
   "source": [
    "#905\n",
    "def triangle_type(a, b, c):\n",
    "    if a==b and b==c:\n",
    "        return 1\n",
    "    if a==b or a==c or b==c:\n",
    "        return 2\n",
    "    return 3\n",
    "a, b, c = map(int, input().split(' '))\n",
    "print(triangle_type(a, b, c))"
   ]
  },
  {
   "cell_type": "code",
   "execution_count": null,
   "id": "58cebc43",
   "metadata": {},
   "outputs": [],
   "source": [
    "#774\n",
    "import math\n",
    "def cake_fits(r, a, b):\n",
    "    if math.sqrt(a**2+b**2)<=2*r:\n",
    "        return \"YES\"\n",
    "    return \"NO\"\n",
    "r, a, b = map(int, input().split(' '))\n",
    "print(cake_fits(r, a, b))"
   ]
  },
  {
   "cell_type": "code",
   "execution_count": null,
   "id": "783a3a53",
   "metadata": {},
   "outputs": [],
   "source": [
    "#902\n",
    "def educational_achievement(grade):\n",
    "    if grade >= 1 and grade <=3:\n",
    "        return \"Initial\"\n",
    "    if grade >=4 and grade <=6:\n",
    "        return \"Average\"\n",
    "    if grade >= 7 and grade <=9:\n",
    "        return \"Sufficient\"\n",
    "    return \"High\"\n",
    "grade = int(input())\n",
    "print(educational_achievement(grade))"
   ]
  },
  {
   "cell_type": "code",
   "execution_count": null,
   "id": "1d0e1fbf",
   "metadata": {},
   "outputs": [],
   "source": [
    "#219\n",
    "import math\n",
    "def count_radiator(h, w, l, k):\n",
    "    return math.ceil(h*w*l/k)\n",
    "h, w, l, k = map(int, input().split(' '))\n",
    "print(count_radiator(h, w, l, k))"
   ]
  },
  {
   "cell_type": "code",
   "execution_count": null,
   "id": "e6fcad9a",
   "metadata": {},
   "outputs": [],
   "source": [
    "#1312\n",
    "def is_carriable(a, b, c, x, y):\n",
    "    if (a <= x and b <= y) or (a <= y and b <= x):\n",
    "        return \"YES\"\n",
    "    if (a <= x and c <= y) or (a <= y and c <= x):\n",
    "        return \"YES\"\n",
    "    if (b <= x and c <= y) or (b <= y and c <= x):\n",
    "        return \"YES\"\n",
    "    return \"NO\"\n",
    "\n",
    "a, b, c, x, y = map(int, input().split())\n",
    "\n",
    "print(is_carriable(a, b, c, x, y))"
   ]
  },
  {
   "cell_type": "code",
   "execution_count": null,
   "id": "13ea9640",
   "metadata": {},
   "outputs": [],
   "source": [
    "#923\n",
    "def season(month_number):\n",
    "    winter = [12, 1, 2]\n",
    "    spring = [3, 4, 5]\n",
    "    summer = [6, 7, 8]\n",
    "    \n",
    "    if month_number in winter:\n",
    "        return \"Winter\"\n",
    "    if month_number in spring:\n",
    "        return \"Spring\"\n",
    "    if month_number in summer:\n",
    "        return \"Summer\"\n",
    "    return \"Autumn\"\n",
    "\n",
    "month_number = int(input())\n",
    "print(season(month_number))\n",
    "    "
   ]
  },
  {
   "cell_type": "code",
   "execution_count": null,
   "id": "d1dbdd32",
   "metadata": {},
   "outputs": [],
   "source": [
    "#7812\n",
    "def Max(a, b):\n",
    "    if a>b:\n",
    "        return a\n",
    "    return b\n",
    "a, b, c, d = map(int, input().split(' '))\n",
    "print(max(max(a, max(b, c)), d))"
   ]
  }
 ],
 "metadata": {
  "kernelspec": {
   "display_name": "Python 3 (ipykernel)",
   "language": "python",
   "name": "python3"
  },
  "language_info": {
   "codemirror_mode": {
    "name": "ipython",
    "version": 3
   },
   "file_extension": ".py",
   "mimetype": "text/x-python",
   "name": "python",
   "nbconvert_exporter": "python",
   "pygments_lexer": "ipython3",
   "version": "3.11.7"
  }
 },
 "nbformat": 4,
 "nbformat_minor": 5
}
